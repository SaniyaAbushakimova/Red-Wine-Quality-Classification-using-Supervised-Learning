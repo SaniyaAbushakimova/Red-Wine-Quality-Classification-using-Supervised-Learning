{
 "cells": [
  {
   "cell_type": "code",
   "execution_count": 81,
   "metadata": {},
   "outputs": [],
   "source": [
    "import pandas as pd\n",
    "import numpy as np\n",
    "import matplotlib.pyplot as plt\n",
    "import seaborn as sns\n",
    "from collections import Counter\n",
    "\n",
    "from sklearn.preprocessing import StandardScaler\n",
    "from sklearn.model_selection import GridSearchCV, train_test_split, cross_val_score\n",
    "from sklearn.metrics import accuracy_score, f1_score, roc_curve, auc, confusion_matrix\n",
    "\n",
    "from sklearn.linear_model import LogisticRegression\n",
    "from sklearn.neighbors import KNeighborsClassifier\n",
    "from sklearn.ensemble import RandomForestClassifier\n",
    "from sklearn.svm import SVC\n",
    "\n",
    "from warnings import simplefilter\n",
    "simplefilter(action='ignore', category=FutureWarning)"
   ]
  },
  {
   "cell_type": "markdown",
   "metadata": {},
   "source": [
    "## Outline\n",
    "1. Introduction \\\n",
    "    1.1 Aim of the project \\\n",
    "    1.2 Variables \n",
    "2. Methods \\\n",
    "    2.1 Data Preprocessing \\\n",
    "    2.2 Model selection \\\n",
    "    2.3 Evaluation metric\n",
    "3. Experiments\\\n",
    "    3.1 Modeling with default parameters \\\n",
    "    3.2 Hyperparameter tuning\n",
    "4. Analysis \\\n",
    "    4.1 Error analysis \\\n",
    "    4.2 Further experiments\n",
    "5. Discussion\n",
    "6. Conclusion"
   ]
  },
  {
   "cell_type": "markdown",
   "metadata": {},
   "source": [
    "## 1. Introduction"
   ]
  },
  {
   "cell_type": "markdown",
   "metadata": {},
   "source": [
    "### 1.1 Aim of the project"
   ]
  },
  {
   "cell_type": "markdown",
   "metadata": {},
   "source": [
    "The following Project-2 continues with the investigation of red wine quality. As a recap, Project-1 was concerned about the relationship between red wine quality and its chemical properties. It contained a thorough data analysis that was trying to answer several research questions about the dataset. In this project, the aim is to construct a classification task that will predict the quality of red wine based on its chemical properties."
   ]
  },
  {
   "cell_type": "markdown",
   "metadata": {},
   "source": [
    "### 1.2 Variables"
   ]
  },
  {
   "cell_type": "markdown",
   "metadata": {},
   "source": [
    "### Output variable "
   ]
  },
  {
   "cell_type": "markdown",
   "metadata": {},
   "source": [
    "The **quality** of wine was chosen to be as an output variable and there are multiple reasons for that:\n",
    "1. In Project-1, it was mentioned that one can develop two different machine learning problems from the *red-wine dataset*. They are regression models (e.g. predicting the value of some chemical property) and classification models (e.g. predicting the quality of wine). For this project, the second machine learning problem was chosen because its solution seems to be more useful for customers. It is assumed that customers will be more interested in the quality of wine they are buying (based on chemical properties), rather than in the chemical properties of the wine (based on its quality);\n",
    "2. A personal reason: I had a lot of experience with regression models, and now wanted to challenge myself and try something new."
   ]
  },
  {
   "cell_type": "markdown",
   "metadata": {},
   "source": [
    "### Input variables"
   ]
  },
  {
   "cell_type": "markdown",
   "metadata": {},
   "source": [
    "*fixed acidity* - most acids involved with wine or fixed or nonvolatile (do not evaporate readily). <br>\n",
    "*volatile acidity* -  the amount of acetic acid in wine, which at too high of levels can lead to an unpleasant, vinegar taste. <br>\n",
    "*citric acid* - found in small quantities, citric acid can add ‘freshness’ and flavor to wines. <br>\n",
    "*residual sugar* - the amount of sugar remaining after fermentation stops. <br>\n",
    "*chlorides* - the amount of salt in the wine. <br>\n",
    "*free sulfur dioxide* - the free form of $SO_2$ exists in equilibrium between molecular $SO_2$ and bisulfite ion; it prevents microbial growth and the oxidation of wine.<br>\n",
    "*total sulfur dioxide* - amount of free and bound forms of $SO_2$; in low concentrations, $SO_2$ is mostly undetectable in wine, but at free $SO_2$ concentrations over 50 ppm, $SO_2$ becomes evident in the nose and taste of wine. <br>\n",
    "*density* - the density of water is close to that of water depending on the percent alcohol and sugar content. <br>\n",
    "*pH* - describes how acidic or basic a wine is on a scale from 0 (very acidic) to 14 (very basic); most wines are between 3-4 on the pH scale. <br>\n",
    "*sulphates* - a wine additive which can contribute to $SO_2$ levels, wich acts as an antimicrobial and antioxidant. <br>\n",
    "*alcohol* - the percent alcohol content of the wine. <br>\n",
    "<br>"
   ]
  },
  {
   "cell_type": "markdown",
   "metadata": {},
   "source": [
    "## 2. Methods"
   ]
  },
  {
   "cell_type": "markdown",
   "metadata": {},
   "source": [
    "### 2.1 Data Preprocessing"
   ]
  },
  {
   "cell_type": "code",
   "execution_count": 82,
   "metadata": {},
   "outputs": [
    {
     "data": {
      "text/html": [
       "<div>\n",
       "<style scoped>\n",
       "    .dataframe tbody tr th:only-of-type {\n",
       "        vertical-align: middle;\n",
       "    }\n",
       "\n",
       "    .dataframe tbody tr th {\n",
       "        vertical-align: top;\n",
       "    }\n",
       "\n",
       "    .dataframe thead th {\n",
       "        text-align: right;\n",
       "    }\n",
       "</style>\n",
       "<table border=\"1\" class=\"dataframe\">\n",
       "  <thead>\n",
       "    <tr style=\"text-align: right;\">\n",
       "      <th></th>\n",
       "      <th>fixed acidity</th>\n",
       "      <th>volatile acidity</th>\n",
       "      <th>citric acid</th>\n",
       "      <th>residual sugar</th>\n",
       "      <th>chlorides</th>\n",
       "      <th>free sulfur dioxide</th>\n",
       "      <th>total sulfur dioxide</th>\n",
       "      <th>density</th>\n",
       "      <th>pH</th>\n",
       "      <th>sulphates</th>\n",
       "      <th>alcohol</th>\n",
       "      <th>quality</th>\n",
       "    </tr>\n",
       "  </thead>\n",
       "  <tbody>\n",
       "    <tr>\n",
       "      <td>0</td>\n",
       "      <td>7.4</td>\n",
       "      <td>0.70</td>\n",
       "      <td>0.00</td>\n",
       "      <td>1.9</td>\n",
       "      <td>0.076</td>\n",
       "      <td>11</td>\n",
       "      <td>34</td>\n",
       "      <td>0.9978</td>\n",
       "      <td>3.51</td>\n",
       "      <td>0.56</td>\n",
       "      <td>9.4</td>\n",
       "      <td>5</td>\n",
       "    </tr>\n",
       "    <tr>\n",
       "      <td>1</td>\n",
       "      <td>7.8</td>\n",
       "      <td>0.88</td>\n",
       "      <td>0.00</td>\n",
       "      <td>2.6</td>\n",
       "      <td>0.098</td>\n",
       "      <td>25</td>\n",
       "      <td>67</td>\n",
       "      <td>0.9968</td>\n",
       "      <td>3.20</td>\n",
       "      <td>0.68</td>\n",
       "      <td>9.8</td>\n",
       "      <td>5</td>\n",
       "    </tr>\n",
       "    <tr>\n",
       "      <td>2</td>\n",
       "      <td>7.8</td>\n",
       "      <td>0.76</td>\n",
       "      <td>0.04</td>\n",
       "      <td>2.3</td>\n",
       "      <td>0.092</td>\n",
       "      <td>15</td>\n",
       "      <td>54</td>\n",
       "      <td>0.9970</td>\n",
       "      <td>3.26</td>\n",
       "      <td>0.65</td>\n",
       "      <td>9.8</td>\n",
       "      <td>5</td>\n",
       "    </tr>\n",
       "    <tr>\n",
       "      <td>3</td>\n",
       "      <td>11.2</td>\n",
       "      <td>0.28</td>\n",
       "      <td>0.56</td>\n",
       "      <td>1.9</td>\n",
       "      <td>0.075</td>\n",
       "      <td>17</td>\n",
       "      <td>60</td>\n",
       "      <td>0.9980</td>\n",
       "      <td>3.16</td>\n",
       "      <td>0.58</td>\n",
       "      <td>9.8</td>\n",
       "      <td>6</td>\n",
       "    </tr>\n",
       "    <tr>\n",
       "      <td>4</td>\n",
       "      <td>7.4</td>\n",
       "      <td>0.70</td>\n",
       "      <td>0.00</td>\n",
       "      <td>1.9</td>\n",
       "      <td>0.076</td>\n",
       "      <td>11</td>\n",
       "      <td>34</td>\n",
       "      <td>0.9978</td>\n",
       "      <td>3.51</td>\n",
       "      <td>0.56</td>\n",
       "      <td>9.4</td>\n",
       "      <td>5</td>\n",
       "    </tr>\n",
       "  </tbody>\n",
       "</table>\n",
       "</div>"
      ],
      "text/plain": [
       "   fixed acidity  volatile acidity  citric acid  residual sugar  chlorides  \\\n",
       "0            7.4              0.70         0.00             1.9      0.076   \n",
       "1            7.8              0.88         0.00             2.6      0.098   \n",
       "2            7.8              0.76         0.04             2.3      0.092   \n",
       "3           11.2              0.28         0.56             1.9      0.075   \n",
       "4            7.4              0.70         0.00             1.9      0.076   \n",
       "\n",
       "   free sulfur dioxide  total sulfur dioxide  density    pH  sulphates  \\\n",
       "0                   11                    34   0.9978  3.51       0.56   \n",
       "1                   25                    67   0.9968  3.20       0.68   \n",
       "2                   15                    54   0.9970  3.26       0.65   \n",
       "3                   17                    60   0.9980  3.16       0.58   \n",
       "4                   11                    34   0.9978  3.51       0.56   \n",
       "\n",
       "   alcohol  quality  \n",
       "0      9.4        5  \n",
       "1      9.8        5  \n",
       "2      9.8        5  \n",
       "3      9.8        6  \n",
       "4      9.4        5  "
      ]
     },
     "execution_count": 82,
     "metadata": {},
     "output_type": "execute_result"
    }
   ],
   "source": [
    "# read the dataset\n",
    "df = pd.read_csv('red-wine-dataset.csv')\n",
    "df.head()"
   ]
  },
  {
   "cell_type": "markdown",
   "metadata": {},
   "source": [
    "As it was mentioned Project-1, **quality** column is not balanced (e.g. there are munch more normal wines than excellent or poor ones). "
   ]
  },
  {
   "cell_type": "code",
   "execution_count": 83,
   "metadata": {},
   "outputs": [
    {
     "data": {
      "image/png": "[encoded data removed]",
      "text/plain": [
       "<Figure size 432x288 with 1 Axes>"
      ]
     },
     "metadata": {
      "needs_background": "light"
     },
     "output_type": "display_data"
    }
   ],
   "source": [
    "# distribution in quality\n",
    "sns.countplot(x='quality', data=df, color=\"darkred\")\n",
    "plt.ylabel(\"Frequency\")\n",
    "plt.xlabel(\"Quality score\")\n",
    "plt.title(\"Distribution of red wine by quality score\");"
   ]
  },
  {
   "cell_type": "markdown",
   "metadata": {},
   "source": [
    "In order to make it more balanced and more interpretable, let's group the classes into two larger classes, namely low-quality (quality <= 5), high-quality (quality > 5). Low-quality will be denoted as 0 and high-quality will be denoted as 1."
   ]
  },
  {
   "cell_type": "code",
   "execution_count": 84,
   "metadata": {},
   "outputs": [],
   "source": [
    "df[\"quality\"] = df[\"quality\"].apply(lambda x: 0 if x <= 5 else 1)"
   ]
  },
  {
   "cell_type": "code",
   "execution_count": 85,
   "metadata": {},
   "outputs": [
    {
     "data": {
      "image/png": "[encoded data removed]",
      "text/plain": [
       "<Figure size 432x288 with 1 Axes>"
      ]
     },
     "metadata": {
      "needs_background": "light"
     },
     "output_type": "display_data"
    }
   ],
   "source": [
    "# new distribution in quality\n",
    "ax = sns.countplot(x='quality', data=df, color=\"darkred\")\n",
    "\n",
    "ax.set_title('Survival in terms of gender', fontsize=20)\n",
    "for p in ax.patches:\n",
    "    ax.annotate(f'\\n{p.get_height()}', (p.get_x()+0.4, p.get_height()), ha='center', va='top', color='white', size=13)\n",
    "\n",
    "plt.ylabel(\"Frequency\")\n",
    "plt.xlabel(\"Quality score\")\n",
    "plt.title(\"Distribution of red wine by quality score\");"
   ]
  },
  {
   "cell_type": "code",
   "execution_count": 86,
   "metadata": {},
   "outputs": [
    {
     "name": "stdout",
     "output_type": "stream",
     "text": [
      "The difference between two classes:  111\n"
     ]
    }
   ],
   "source": [
    "print(\"The difference between two classes: \", df[\"quality\"].value_counts()[1]-df[\"quality\"].value_counts()[0])"
   ]
  },
  {
   "cell_type": "code",
   "execution_count": 87,
   "metadata": {},
   "outputs": [],
   "source": [
    "# dividing the dataset into input and output variables\n",
    "X = df.iloc[:,:11]\n",
    "y = df.iloc[:,-1]"
   ]
  },
  {
   "cell_type": "code",
   "execution_count": 88,
   "metadata": {},
   "outputs": [
    {
     "data": {
      "text/html": [
       "<div>\n",
       "<style scoped>\n",
       "    .dataframe tbody tr th:only-of-type {\n",
       "        vertical-align: middle;\n",
       "    }\n",
       "\n",
       "    .dataframe tbody tr th {\n",
       "        vertical-align: top;\n",
       "    }\n",
       "\n",
       "    .dataframe thead th {\n",
       "        text-align: right;\n",
       "    }\n",
       "</style>\n",
       "<table border=\"1\" class=\"dataframe\">\n",
       "  <thead>\n",
       "    <tr style=\"text-align: right;\">\n",
       "      <th></th>\n",
       "      <th>fixed acidity</th>\n",
       "      <th>volatile acidity</th>\n",
       "      <th>citric acid</th>\n",
       "      <th>residual sugar</th>\n",
       "      <th>chlorides</th>\n",
       "      <th>free sulfur dioxide</th>\n",
       "      <th>total sulfur dioxide</th>\n",
       "      <th>density</th>\n",
       "      <th>pH</th>\n",
       "      <th>sulphates</th>\n",
       "      <th>alcohol</th>\n",
       "    </tr>\n",
       "  </thead>\n",
       "  <tbody>\n",
       "    <tr>\n",
       "      <td>0</td>\n",
       "      <td>7.4</td>\n",
       "      <td>0.70</td>\n",
       "      <td>0.00</td>\n",
       "      <td>1.9</td>\n",
       "      <td>0.076</td>\n",
       "      <td>11</td>\n",
       "      <td>34</td>\n",
       "      <td>0.9978</td>\n",
       "      <td>3.51</td>\n",
       "      <td>0.56</td>\n",
       "      <td>9.4</td>\n",
       "    </tr>\n",
       "    <tr>\n",
       "      <td>1</td>\n",
       "      <td>7.8</td>\n",
       "      <td>0.88</td>\n",
       "      <td>0.00</td>\n",
       "      <td>2.6</td>\n",
       "      <td>0.098</td>\n",
       "      <td>25</td>\n",
       "      <td>67</td>\n",
       "      <td>0.9968</td>\n",
       "      <td>3.20</td>\n",
       "      <td>0.68</td>\n",
       "      <td>9.8</td>\n",
       "    </tr>\n",
       "    <tr>\n",
       "      <td>2</td>\n",
       "      <td>7.8</td>\n",
       "      <td>0.76</td>\n",
       "      <td>0.04</td>\n",
       "      <td>2.3</td>\n",
       "      <td>0.092</td>\n",
       "      <td>15</td>\n",
       "      <td>54</td>\n",
       "      <td>0.9970</td>\n",
       "      <td>3.26</td>\n",
       "      <td>0.65</td>\n",
       "      <td>9.8</td>\n",
       "    </tr>\n",
       "    <tr>\n",
       "      <td>3</td>\n",
       "      <td>11.2</td>\n",
       "      <td>0.28</td>\n",
       "      <td>0.56</td>\n",
       "      <td>1.9</td>\n",
       "      <td>0.075</td>\n",
       "      <td>17</td>\n",
       "      <td>60</td>\n",
       "      <td>0.9980</td>\n",
       "      <td>3.16</td>\n",
       "      <td>0.58</td>\n",
       "      <td>9.8</td>\n",
       "    </tr>\n",
       "    <tr>\n",
       "      <td>4</td>\n",
       "      <td>7.4</td>\n",
       "      <td>0.70</td>\n",
       "      <td>0.00</td>\n",
       "      <td>1.9</td>\n",
       "      <td>0.076</td>\n",
       "      <td>11</td>\n",
       "      <td>34</td>\n",
       "      <td>0.9978</td>\n",
       "      <td>3.51</td>\n",
       "      <td>0.56</td>\n",
       "      <td>9.4</td>\n",
       "    </tr>\n",
       "  </tbody>\n",
       "</table>\n",
       "</div>"
      ],
      "text/plain": [
       "   fixed acidity  volatile acidity  citric acid  residual sugar  chlorides  \\\n",
       "0            7.4              0.70         0.00             1.9      0.076   \n",
       "1            7.8              0.88         0.00             2.6      0.098   \n",
       "2            7.8              0.76         0.04             2.3      0.092   \n",
       "3           11.2              0.28         0.56             1.9      0.075   \n",
       "4            7.4              0.70         0.00             1.9      0.076   \n",
       "\n",
       "   free sulfur dioxide  total sulfur dioxide  density    pH  sulphates  \\\n",
       "0                   11                    34   0.9978  3.51       0.56   \n",
       "1                   25                    67   0.9968  3.20       0.68   \n",
       "2                   15                    54   0.9970  3.26       0.65   \n",
       "3                   17                    60   0.9980  3.16       0.58   \n",
       "4                   11                    34   0.9978  3.51       0.56   \n",
       "\n",
       "   alcohol  \n",
       "0      9.4  \n",
       "1      9.8  \n",
       "2      9.8  \n",
       "3      9.8  \n",
       "4      9.4  "
      ]
     },
     "execution_count": 88,
     "metadata": {},
     "output_type": "execute_result"
    }
   ],
   "source": [
    "X.head()"
   ]
  },
  {
   "cell_type": "code",
   "execution_count": 89,
   "metadata": {},
   "outputs": [
    {
     "data": {
      "text/plain": [
       "0    0\n",
       "1    0\n",
       "2    0\n",
       "3    1\n",
       "4    0\n",
       "Name: quality, dtype: int64"
      ]
     },
     "execution_count": 89,
     "metadata": {},
     "output_type": "execute_result"
    }
   ],
   "source": [
    "y.head()"
   ]
  },
  {
   "cell_type": "markdown",
   "metadata": {},
   "source": [
    "### 2.2 Model selection"
   ]
  },
  {
   "cell_type": "markdown",
   "metadata": {},
   "source": [
    "For the following classification task, four difference classifiers will be used. They are:\n",
    "1. Logistic Regression\n",
    "2. K-nearest Neighbors (K-NN)\n",
    "3. Kernelized SVM\n",
    "4. Random Forest (random_state = 30)"
   ]
  },
  {
   "cell_type": "markdown",
   "metadata": {},
   "source": [
    "### 2.3 Evaluation metric"
   ]
  },
  {
   "cell_type": "markdown",
   "metadata": {},
   "source": [
    "Since our output variable is relatively balanced now we can use **Accuracy** to evaluate the performance of our models. However, to be on the safe side, they will also be compared to their **F1 scores**. Presumably, we want to see the same pattern in both accuracy and F1 scores. Here are the respective formulas for the two metrics:"
   ]
  },
  {
   "cell_type": "markdown",
   "metadata": {},
   "source": [
    "$$\n",
    "  Accuracy = \\frac{(TP + TN)}{TP + FP + TN + FN}\n",
    "$$\n",
    "\\\n",
    "$$\n",
    "  F1 = 2 \\cdot \\frac{(precision \\cdot recall)}{precision + recall}, \\ \\text{where} \\ precision = \\frac{TP}{TP + FP} \\ \\text{and} \\ recall = \\frac{TP}{TP + FN}\n",
    "$$"
   ]
  },
  {
   "cell_type": "markdown",
   "metadata": {},
   "source": [
    "Also, in order to better understand how well the model generalizes to unseen data, **cross-validation** on 8 folds is utilized during all evaluation processes."
   ]
  },
  {
   "cell_type": "markdown",
   "metadata": {},
   "source": [
    "## 3. Experiments"
   ]
  },
  {
   "cell_type": "code",
   "execution_count": 90,
   "metadata": {},
   "outputs": [],
   "source": [
    "# splitting the data set into training and test sets\n",
    "X_train, X_test, y_train, y_test = train_test_split(X, y, test_size=0.2, random_state=42)"
   ]
  },
  {
   "cell_type": "code",
   "execution_count": 91,
   "metadata": {},
   "outputs": [
    {
     "data": {
      "text/plain": [
       "803     1\n",
       "124     0\n",
       "350     1\n",
       "682     0\n",
       "1326    1\n",
       "       ..\n",
       "1259    1\n",
       "1295    0\n",
       "1155    0\n",
       "963     1\n",
       "704     0\n",
       "Name: quality, Length: 320, dtype: int64"
      ]
     },
     "execution_count": 91,
     "metadata": {},
     "output_type": "execute_result"
    }
   ],
   "source": [
    "y_test"
   ]
  },
  {
   "cell_type": "markdown",
   "metadata": {},
   "source": [
    "Logistic Regression, K-NN, and Kernelized SVM are sensitive towards feature scaling. Although Random Forest does not require feature scaling, it was decided to use scaled dataset for all models."
   ]
  },
  {
   "cell_type": "code",
   "execution_count": 92,
   "metadata": {},
   "outputs": [],
   "source": [
    "# scaling of input variables\n",
    "sc = StandardScaler()\n",
    "X_train_scaled = sc.fit_transform(X_train)\n",
    "X_test_scaled = sc.transform(X_test)"
   ]
  },
  {
   "cell_type": "markdown",
   "metadata": {},
   "source": [
    "### 3.1 Modeling with default parameters"
   ]
  },
  {
   "cell_type": "markdown",
   "metadata": {},
   "source": [
    "Let's start the modeling process with the default parameters provided by Sklearn developers. Note that Logistic Regression and Kernel-SVM use regularization by default. "
   ]
  },
  {
   "cell_type": "code",
   "execution_count": 93,
   "metadata": {},
   "outputs": [
    {
     "data": {
      "text/html": [
       "<style  type=\"text/css\" >\n",
       "    #T_4f0b247c_cec0_11ec_b082_1c36bb2c2bbcrow0_col3 {\n",
       "            background-color:  #f96044;\n",
       "            color:  #000000;\n",
       "        }    #T_4f0b247c_cec0_11ec_b082_1c36bb2c2bbcrow0_col4 {\n",
       "            background-color:  #fca78b;\n",
       "            color:  #000000;\n",
       "        }    #T_4f0b247c_cec0_11ec_b082_1c36bb2c2bbcrow1_col3 {\n",
       "            background-color:  #fff5f0;\n",
       "            color:  #000000;\n",
       "        }    #T_4f0b247c_cec0_11ec_b082_1c36bb2c2bbcrow1_col4 {\n",
       "            background-color:  #fff5f0;\n",
       "            color:  #000000;\n",
       "        }    #T_4f0b247c_cec0_11ec_b082_1c36bb2c2bbcrow2_col3 {\n",
       "            background-color:  #67000d;\n",
       "            color:  #f1f1f1;\n",
       "        }    #T_4f0b247c_cec0_11ec_b082_1c36bb2c2bbcrow2_col4 {\n",
       "            background-color:  #67000d;\n",
       "            color:  #f1f1f1;\n",
       "        }    #T_4f0b247c_cec0_11ec_b082_1c36bb2c2bbcrow3_col3 {\n",
       "            background-color:  #c7171c;\n",
       "            color:  #f1f1f1;\n",
       "        }    #T_4f0b247c_cec0_11ec_b082_1c36bb2c2bbcrow3_col4 {\n",
       "            background-color:  #f5523a;\n",
       "            color:  #000000;\n",
       "        }</style><table id=\"T_4f0b247c_cec0_11ec_b082_1c36bb2c2bbc\" ><thead>    <tr>        <th class=\"blank level0\" ></th>        <th class=\"col_heading level0 col0\" >model</th>        <th class=\"col_heading level0 col1\" >accuracy_cv</th>        <th class=\"col_heading level0 col2\" >accuracy_train</th>        <th class=\"col_heading level0 col3\" >accuracy_test</th>        <th class=\"col_heading level0 col4\" >f1_test</th>        <th class=\"col_heading level0 col5\" >params</th>    </tr></thead><tbody>\n",
       "                <tr>\n",
       "                        <th id=\"T_4f0b247c_cec0_11ec_b082_1c36bb2c2bbclevel0_row0\" class=\"row_heading level0 row0\" >0</th>\n",
       "                        <td id=\"T_4f0b247c_cec0_11ec_b082_1c36bb2c2bbcrow0_col0\" class=\"data row0 col0\" >logistic_reg</td>\n",
       "                        <td id=\"T_4f0b247c_cec0_11ec_b082_1c36bb2c2bbcrow0_col1\" class=\"data row0 col1\" >0.742863</td>\n",
       "                        <td id=\"T_4f0b247c_cec0_11ec_b082_1c36bb2c2bbcrow0_col2\" class=\"data row0 col2\" >0.75215</td>\n",
       "                        <td id=\"T_4f0b247c_cec0_11ec_b082_1c36bb2c2bbcrow0_col3\" class=\"data row0 col3\" >0.740625</td>\n",
       "                        <td id=\"T_4f0b247c_cec0_11ec_b082_1c36bb2c2bbcrow0_col4\" class=\"data row0 col4\" >0.760807</td>\n",
       "                        <td id=\"T_4f0b247c_cec0_11ec_b082_1c36bb2c2bbcrow0_col5\" class=\"data row0 col5\" >default</td>\n",
       "            </tr>\n",
       "            <tr>\n",
       "                        <th id=\"T_4f0b247c_cec0_11ec_b082_1c36bb2c2bbclevel0_row1\" class=\"row_heading level0 row1\" >1</th>\n",
       "                        <td id=\"T_4f0b247c_cec0_11ec_b082_1c36bb2c2bbcrow1_col0\" class=\"data row1 col0\" >knn</td>\n",
       "                        <td id=\"T_4f0b247c_cec0_11ec_b082_1c36bb2c2bbcrow1_col1\" class=\"data row1 col1\" >0.720132</td>\n",
       "                        <td id=\"T_4f0b247c_cec0_11ec_b082_1c36bb2c2bbcrow1_col2\" class=\"data row1 col2\" >0.814699</td>\n",
       "                        <td id=\"T_4f0b247c_cec0_11ec_b082_1c36bb2c2bbcrow1_col3\" class=\"data row1 col3\" >0.70625</td>\n",
       "                        <td id=\"T_4f0b247c_cec0_11ec_b082_1c36bb2c2bbcrow1_col4\" class=\"data row1 col4\" >0.747312</td>\n",
       "                        <td id=\"T_4f0b247c_cec0_11ec_b082_1c36bb2c2bbcrow1_col5\" class=\"data row1 col5\" >default</td>\n",
       "            </tr>\n",
       "            <tr>\n",
       "                        <th id=\"T_4f0b247c_cec0_11ec_b082_1c36bb2c2bbclevel0_row2\" class=\"row_heading level0 row2\" >2</th>\n",
       "                        <td id=\"T_4f0b247c_cec0_11ec_b082_1c36bb2c2bbcrow2_col0\" class=\"data row2 col0\" >kernel_svm</td>\n",
       "                        <td id=\"T_4f0b247c_cec0_11ec_b082_1c36bb2c2bbcrow2_col1\" class=\"data row2 col1\" >0.755426</td>\n",
       "                        <td id=\"T_4f0b247c_cec0_11ec_b082_1c36bb2c2bbcrow2_col2\" class=\"data row2 col2\" >0.802189</td>\n",
       "                        <td id=\"T_4f0b247c_cec0_11ec_b082_1c36bb2c2bbcrow2_col3\" class=\"data row2 col3\" >0.771875</td>\n",
       "                        <td id=\"T_4f0b247c_cec0_11ec_b082_1c36bb2c2bbcrow2_col4\" class=\"data row2 col4\" >0.790831</td>\n",
       "                        <td id=\"T_4f0b247c_cec0_11ec_b082_1c36bb2c2bbcrow2_col5\" class=\"data row2 col5\" >default</td>\n",
       "            </tr>\n",
       "            <tr>\n",
       "                        <th id=\"T_4f0b247c_cec0_11ec_b082_1c36bb2c2bbclevel0_row3\" class=\"row_heading level0 row3\" >3</th>\n",
       "                        <td id=\"T_4f0b247c_cec0_11ec_b082_1c36bb2c2bbcrow3_col0\" class=\"data row3 col0\" >random_forest</td>\n",
       "                        <td id=\"T_4f0b247c_cec0_11ec_b082_1c36bb2c2bbcrow3_col1\" class=\"data row3 col1\" >0.797552</td>\n",
       "                        <td id=\"T_4f0b247c_cec0_11ec_b082_1c36bb2c2bbcrow3_col2\" class=\"data row3 col2\" >0.992181</td>\n",
       "                        <td id=\"T_4f0b247c_cec0_11ec_b082_1c36bb2c2bbcrow3_col3\" class=\"data row3 col3\" >0.75625</td>\n",
       "                        <td id=\"T_4f0b247c_cec0_11ec_b082_1c36bb2c2bbcrow3_col4\" class=\"data row3 col4\" >0.77193</td>\n",
       "                        <td id=\"T_4f0b247c_cec0_11ec_b082_1c36bb2c2bbcrow3_col5\" class=\"data row3 col5\" >default</td>\n",
       "            </tr>\n",
       "    </tbody></table>"
      ],
      "text/plain": [
       "<pandas.io.formats.style.Styler at 0x1a202c2e90>"
      ]
     },
     "execution_count": 93,
     "metadata": {},
     "output_type": "execute_result"
    }
   ],
   "source": [
    "scores = []\n",
    "\n",
    "# logistic regression\n",
    "lr = LogisticRegression().fit(X_train_scaled, y_train)\n",
    "lr_cv = cross_val_score(lr, X_train_scaled, y_train, cv=8, scoring='accuracy')\n",
    "\n",
    "lr_pred_train = lr.predict(X_train_scaled)\n",
    "lr_train_score = accuracy_score(y_train, lr_pred_train)\n",
    "\n",
    "lr_pred_test = lr.predict(X_test_scaled)\n",
    "lr_test_score = accuracy_score(y_test, lr_pred_test)\n",
    "lr_test_f1_score = f1_score(y_test, lr_pred_test)\n",
    "\n",
    "scores.append({\n",
    "    \"model\": \"logistic_reg\",\n",
    "    \"accuracy_train\": lr_train_score,\n",
    "    \"accuracy_test\": lr_test_score,\n",
    "    \"accuracy_cv\": lr_cv.mean(),\n",
    "    \"f1_test\": lr_test_f1_score\n",
    "})\n",
    "\n",
    "# k-nearest neighbors\n",
    "knn = KNeighborsClassifier().fit(X_train_scaled, y_train)\n",
    "knn_cv = cross_val_score(knn, X_train_scaled, y_train, cv=8, scoring='accuracy')\n",
    "\n",
    "knn_pred_train = knn.predict(X_train_scaled)\n",
    "knn_train_score = accuracy_score(y_train, knn_pred_train)\n",
    "\n",
    "knn_pred_test = knn.predict(X_test_scaled)\n",
    "knn_test_score = accuracy_score(y_test, knn_pred_test)\n",
    "knn_test_f1_score = f1_score(y_test, knn_pred_test)\n",
    "\n",
    "scores.append({\n",
    "    \"model\": \"knn\",\n",
    "    \"accuracy_train\": knn_train_score,\n",
    "    \"accuracy_test\": knn_test_score,\n",
    "    \"accuracy_cv\": knn_cv.mean(),\n",
    "    \"f1_test\": knn_test_f1_score\n",
    "})\n",
    "\n",
    "# kernelized svm\n",
    "svm = SVC(kernel = 'rbf').fit(X_train_scaled, y_train)\n",
    "svm_cv = cross_val_score(svm, X_train_scaled, y_train, cv=8, scoring='accuracy')\n",
    "\n",
    "svm_pred_train = svm.predict(X_train_scaled)\n",
    "svm_train_score = accuracy_score(y_train, svm_pred_train)\n",
    "\n",
    "svm_pred_test = svm.predict(X_test_scaled)\n",
    "svm_test_score = accuracy_score(y_test, svm_pred_test)\n",
    "svm_test_f1_score = f1_score(y_test, svm_pred_test)\n",
    "\n",
    "scores.append({\n",
    "    \"model\": \"kernel_svm\",\n",
    "    \"accuracy_train\": svm_train_score,\n",
    "    \"accuracy_test\": svm_test_score,\n",
    "    \"accuracy_cv\": svm_cv.mean(),\n",
    "    \"f1_test\": svm_test_f1_score\n",
    "})\n",
    "\n",
    "# random forest\n",
    "rf = RandomForestClassifier(random_state=30).fit(X_train_scaled, y_train)\n",
    "rf_cv = cross_val_score(rf, X_train, y_train, cv=8, scoring='accuracy')\n",
    "\n",
    "rf_pred_train = rf.predict(X_train_scaled)\n",
    "rf_train_score = accuracy_score(y_train, rf_pred_train)\n",
    "\n",
    "rf_pred_test = rf.predict(X_test_scaled)\n",
    "rf_test_score = accuracy_score(y_test, rf_pred_test)\n",
    "rf_test_f1_score = f1_score(y_test, rf_pred_test)\n",
    "\n",
    "scores.append({\n",
    "    \"model\": \"random_forest\",\n",
    "    \"accuracy_train\": rf_train_score,\n",
    "    \"accuracy_test\": rf_test_score,\n",
    "    \"accuracy_cv\": rf_cv.mean(),\n",
    "    \"f1_test\": rf_test_f1_score\n",
    "})\n",
    "\n",
    "# putting the results to a nice dataframe\n",
    "df_scores = pd.DataFrame(scores, columns=[\"model\", \"accuracy_cv\", \"accuracy_train\", \"accuracy_test\", \"f1_test\", \"params\"])\n",
    "df_scores[\"params\"]=\"default\"\n",
    "df_scores.style.background_gradient(\"Reds\",subset=[\"accuracy_test\",\"f1_test\"])"
   ]
  },
  {
   "cell_type": "markdown",
   "metadata": {},
   "source": [
    "As we can see from the table above, the best Accuracy and F1 scores go to **Kernelized SVM**. Let's now perform hyperparameter tuning with GridSearch to see if we can improve the performance of our models."
   ]
  },
  {
   "cell_type": "markdown",
   "metadata": {},
   "source": [
    "### 3.2 Hyperparameter tuning"
   ]
  },
  {
   "cell_type": "code",
   "execution_count": 94,
   "metadata": {},
   "outputs": [
    {
     "data": {
      "text/html": [
       "<div>\n",
       "<style scoped>\n",
       "    .dataframe tbody tr th:only-of-type {\n",
       "        vertical-align: middle;\n",
       "    }\n",
       "\n",
       "    .dataframe tbody tr th {\n",
       "        vertical-align: top;\n",
       "    }\n",
       "\n",
       "    .dataframe thead th {\n",
       "        text-align: right;\n",
       "    }\n",
       "</style>\n",
       "<table border=\"1\" class=\"dataframe\">\n",
       "  <thead>\n",
       "    <tr style=\"text-align: right;\">\n",
       "      <th></th>\n",
       "      <th>best_params</th>\n",
       "      <th>accuracy_cv</th>\n",
       "    </tr>\n",
       "    <tr>\n",
       "      <th>model</th>\n",
       "      <th></th>\n",
       "      <th></th>\n",
       "    </tr>\n",
       "  </thead>\n",
       "  <tbody>\n",
       "    <tr>\n",
       "      <td>logistic_reg</td>\n",
       "      <td>{'C': 0.1, 'solver': 'liblinear'}</td>\n",
       "      <td>0.743550</td>\n",
       "    </tr>\n",
       "    <tr>\n",
       "      <td>knn</td>\n",
       "      <td>{'n_neighbors': 16}</td>\n",
       "      <td>0.741204</td>\n",
       "    </tr>\n",
       "    <tr>\n",
       "      <td>kernel_svm</td>\n",
       "      <td>{'C': 5, 'gamma': 0.5}</td>\n",
       "      <td>0.776388</td>\n",
       "    </tr>\n",
       "    <tr>\n",
       "      <td>random_forest</td>\n",
       "      <td>{'max_depth': 30, 'n_estimators': 25}</td>\n",
       "      <td>0.818608</td>\n",
       "    </tr>\n",
       "  </tbody>\n",
       "</table>\n",
       "</div>"
      ],
      "text/plain": [
       "                                         best_params  accuracy_cv\n",
       "model                                                            \n",
       "logistic_reg       {'C': 0.1, 'solver': 'liblinear'}     0.743550\n",
       "knn                              {'n_neighbors': 16}     0.741204\n",
       "kernel_svm                    {'C': 5, 'gamma': 0.5}     0.776388\n",
       "random_forest  {'max_depth': 30, 'n_estimators': 25}     0.818608"
      ]
     },
     "execution_count": 94,
     "metadata": {},
     "output_type": "execute_result"
    }
   ],
   "source": [
    "# parameters for grid search\n",
    "param_grid = {\n",
    "    'logistic_reg': {\n",
    "        'model': LogisticRegression(),\n",
    "        'params': {'C': [0.1, 1, 3, 5],\n",
    "                   'solver' : ['liblinear', 'saga']}},\n",
    "    'knn': {\n",
    "        'model': KNeighborsClassifier(),\n",
    "        'params': {'n_neighbors': [5, 8, 10, 12, 16]}},\n",
    "    \n",
    "    'kernel_svm': {\n",
    "        'model': SVC(kernel='rbf'),\n",
    "        'params': {'C': [0.1, 1, 5, 10, 100],\n",
    "                   'gamma': [0.1, 0.5, 1, 2, 5]}},\n",
    "    \n",
    "    'random_forest': {\n",
    "        'model': RandomForestClassifier(random_state=30),\n",
    "        'params': {'n_estimators': [10, 20, 25, 30],\n",
    "                   'max_depth': [10, 20, 30, 40]}}}\n",
    "\n",
    "# searching for the best parameters\n",
    "best_param = []\n",
    "\n",
    "for model_name, mp in param_grid.items():\n",
    "    model = GridSearchCV(mp[\"model\"], mp[\"params\"], cv=8, scoring='accuracy')\n",
    "    model.fit(X_train_scaled, y_train)\n",
    "    best_param.append({\n",
    "            \"model\" : model_name,\n",
    "            \"best_params\": model.best_params_,\n",
    "            \"accuracy_cv\": model.best_score_\n",
    "    })\n",
    "\n",
    "# putting the results to another nice dataframe\n",
    "df_hyper_scores = pd.DataFrame(best_param, columns=[\"model\", \"best_params\", \"accuracy_cv\"]).set_index('model')\n",
    "df_hyper_scores"
   ]
  },
  {
   "cell_type": "code",
   "execution_count": 95,
   "metadata": {},
   "outputs": [],
   "source": [
    "# calculating train and test scores with best set of parameters\n",
    "\n",
    "# logistic regression ('C': 0.1, 'solver': 'liblinear')\n",
    "lr_best = LogisticRegression(C=0.1, solver='liblinear')\n",
    "lr_best.fit(X_train_scaled, y_train)\n",
    "\n",
    "lr_best_pred_train = lr_best.predict(X_train_scaled)\n",
    "lr_best_train_score = accuracy_score(y_train, lr_best_pred_train)\n",
    "\n",
    "lr_best_pred_test = lr_best.predict(X_test_scaled)\n",
    "lr_best_test_score = accuracy_score(y_test, lr_best_pred_test)\n",
    "lr_best_test_f1_score = f1_score(y_test, lr_best_pred_test)\n",
    "\n",
    "df_hyper_scores.loc[\"logistic_reg\", \"accuracy_train\"] = lr_best_train_score\n",
    "df_hyper_scores.loc[\"logistic_reg\", \"accuracy_test\"] = lr_best_test_score\n",
    "df_hyper_scores.loc[\"logistic_reg\", \"f1_test\"] = lr_best_test_f1_score\n",
    "\n",
    "# k-nearest neighbors ('n_neighbors': 16)\n",
    "knn_best = KNeighborsClassifier(n_neighbors=16)\n",
    "knn_best.fit(X_train_scaled, y_train)\n",
    "\n",
    "knn_best_pred_train = knn_best.predict(X_train_scaled)\n",
    "knn_best_train_score = accuracy_score(y_train, knn_best_pred_train)\n",
    "\n",
    "knn_best_pred_test = knn_best.predict(X_test_scaled)\n",
    "knn_best_test_score = accuracy_score(y_test, knn_best_pred_test)\n",
    "knn_best_test_f1_score = f1_score(y_test, knn_best_pred_test)\n",
    "\n",
    "df_hyper_scores.loc[\"knn\", \"accuracy_train\"] = knn_best_train_score\n",
    "df_hyper_scores.loc[\"knn\", \"accuracy_test\"] = knn_best_test_score\n",
    "df_hyper_scores.loc[\"knn\", \"f1_test\"] = knn_best_test_f1_score\n",
    "\n",
    "# kernelized svm ('C': 5, 'gamma': 0.5)\n",
    "svm_best = SVC(kernel='rbf', C=5, gamma=0.5)\n",
    "svm_best.fit(X_train_scaled, y_train)\n",
    "\n",
    "svm_best_pred_train = svm_best.predict(X_train_scaled)\n",
    "svm_best_train_score = accuracy_score(y_train, svm_best_pred_train)\n",
    "\n",
    "svm_best_pred_test = svm.predict(X_test_scaled)\n",
    "svm_best_test_score = accuracy_score(y_test, svm_best_pred_test)\n",
    "svm_best_test_f1_score = f1_score(y_test, svm_best_pred_test)\n",
    "\n",
    "df_hyper_scores.loc[\"kernel_svm\", \"accuracy_train\"] = svm_best_train_score\n",
    "df_hyper_scores.loc[\"kernel_svm\", \"accuracy_test\"] = svm_best_test_score\n",
    "df_hyper_scores.loc[\"kernel_svm\", \"f1_test\"] = svm_best_test_f1_score\n",
    "\n",
    "# random forest ('max_depth': 30, 'n_estimators': 25)\n",
    "rf_best = RandomForestClassifier(max_depth=30, n_estimators=25, random_state=30)\n",
    "rf_best.fit(X_train_scaled, y_train)\n",
    "\n",
    "rf_best_pred_train = rf_best.predict(X_train_scaled)\n",
    "rf_best_train_score = accuracy_score(y_train, rf_best_pred_train)\n",
    "\n",
    "rf_best_pred_test = rf_best.predict(X_test_scaled)\n",
    "rf_best_test_score = accuracy_score(y_test, rf_best_pred_test)\n",
    "rf_best_test_f1_score = f1_score(y_test, rf_best_pred_test)\n",
    "\n",
    "df_hyper_scores.loc[\"random_forest\", \"accuracy_train\"] = rf_best_train_score\n",
    "df_hyper_scores.loc[\"random_forest\", \"accuracy_test\"] = rf_best_test_score\n",
    "df_hyper_scores.loc[\"random_forest\", \"f1_test\"] = rf_best_test_f1_score"
   ]
  },
  {
   "cell_type": "code",
   "execution_count": 96,
   "metadata": {},
   "outputs": [],
   "source": [
    "# some cosmetics for future manipulations with df_hyper_scores\n",
    "df_hyper_scores.insert(5, \"params\", \"tuned\")\n",
    "df_hyper_scores = df_hyper_scores.drop(\"best_params\", axis=1).reset_index()"
   ]
  },
  {
   "cell_type": "code",
   "execution_count": 97,
   "metadata": {},
   "outputs": [
    {
     "data": {
      "text/html": [
       "<style  type=\"text/css\" >\n",
       "    #T_5e632c44_cec0_11ec_b082_1c36bb2c2bbcrow0_col3 {\n",
       "            background-color:  #c2161b;\n",
       "            color:  #f1f1f1;\n",
       "        }    #T_5e632c44_cec0_11ec_b082_1c36bb2c2bbcrow0_col4 {\n",
       "            background-color:  #e53228;\n",
       "            color:  #f1f1f1;\n",
       "        }    #T_5e632c44_cec0_11ec_b082_1c36bb2c2bbcrow1_col3 {\n",
       "            background-color:  #c2161b;\n",
       "            color:  #f1f1f1;\n",
       "        }    #T_5e632c44_cec0_11ec_b082_1c36bb2c2bbcrow1_col4 {\n",
       "            background-color:  #e53228;\n",
       "            color:  #f1f1f1;\n",
       "        }    #T_5e632c44_cec0_11ec_b082_1c36bb2c2bbcrow2_col3 {\n",
       "            background-color:  #fcb89e;\n",
       "            color:  #000000;\n",
       "        }    #T_5e632c44_cec0_11ec_b082_1c36bb2c2bbcrow2_col4 {\n",
       "            background-color:  #fee9df;\n",
       "            color:  #000000;\n",
       "        }    #T_5e632c44_cec0_11ec_b082_1c36bb2c2bbcrow3_col3 {\n",
       "            background-color:  #fff5f0;\n",
       "            color:  #000000;\n",
       "        }    #T_5e632c44_cec0_11ec_b082_1c36bb2c2bbcrow3_col4 {\n",
       "            background-color:  #fff5f0;\n",
       "            color:  #000000;\n",
       "        }    #T_5e632c44_cec0_11ec_b082_1c36bb2c2bbcrow4_col3 {\n",
       "            background-color:  #fb7c5c;\n",
       "            color:  #000000;\n",
       "        }    #T_5e632c44_cec0_11ec_b082_1c36bb2c2bbcrow4_col4 {\n",
       "            background-color:  #fdc5ae;\n",
       "            color:  #000000;\n",
       "        }    #T_5e632c44_cec0_11ec_b082_1c36bb2c2bbcrow5_col3 {\n",
       "            background-color:  #fc8767;\n",
       "            color:  #000000;\n",
       "        }    #T_5e632c44_cec0_11ec_b082_1c36bb2c2bbcrow5_col4 {\n",
       "            background-color:  #fdc9b3;\n",
       "            color:  #000000;\n",
       "        }    #T_5e632c44_cec0_11ec_b082_1c36bb2c2bbcrow6_col3 {\n",
       "            background-color:  #67000d;\n",
       "            color:  #f1f1f1;\n",
       "        }    #T_5e632c44_cec0_11ec_b082_1c36bb2c2bbcrow6_col4 {\n",
       "            background-color:  #67000d;\n",
       "            color:  #f1f1f1;\n",
       "        }    #T_5e632c44_cec0_11ec_b082_1c36bb2c2bbcrow7_col3 {\n",
       "            background-color:  #f24734;\n",
       "            color:  #000000;\n",
       "        }    #T_5e632c44_cec0_11ec_b082_1c36bb2c2bbcrow7_col4 {\n",
       "            background-color:  #fc9373;\n",
       "            color:  #000000;\n",
       "        }</style><table id=\"T_5e632c44_cec0_11ec_b082_1c36bb2c2bbc\" ><thead>    <tr>        <th class=\"blank level0\" ></th>        <th class=\"col_heading level0 col0\" >model</th>        <th class=\"col_heading level0 col1\" >accuracy_cv</th>        <th class=\"col_heading level0 col2\" >accuracy_train</th>        <th class=\"col_heading level0 col3\" >accuracy_test</th>        <th class=\"col_heading level0 col4\" >f1_test</th>        <th class=\"col_heading level0 col5\" >params</th>    </tr></thead><tbody>\n",
       "                <tr>\n",
       "                        <th id=\"T_5e632c44_cec0_11ec_b082_1c36bb2c2bbclevel0_row0\" class=\"row_heading level0 row0\" >0</th>\n",
       "                        <td id=\"T_5e632c44_cec0_11ec_b082_1c36bb2c2bbcrow0_col0\" class=\"data row0 col0\" >kernel_svm</td>\n",
       "                        <td id=\"T_5e632c44_cec0_11ec_b082_1c36bb2c2bbcrow0_col1\" class=\"data row0 col1\" >0.776388</td>\n",
       "                        <td id=\"T_5e632c44_cec0_11ec_b082_1c36bb2c2bbcrow0_col2\" class=\"data row0 col2\" >0.97498</td>\n",
       "                        <td id=\"T_5e632c44_cec0_11ec_b082_1c36bb2c2bbcrow0_col3\" class=\"data row0 col3\" >0.771875</td>\n",
       "                        <td id=\"T_5e632c44_cec0_11ec_b082_1c36bb2c2bbcrow0_col4\" class=\"data row0 col4\" >0.790831</td>\n",
       "                        <td id=\"T_5e632c44_cec0_11ec_b082_1c36bb2c2bbcrow0_col5\" class=\"data row0 col5\" >tuned</td>\n",
       "            </tr>\n",
       "            <tr>\n",
       "                        <th id=\"T_5e632c44_cec0_11ec_b082_1c36bb2c2bbclevel0_row1\" class=\"row_heading level0 row1\" >1</th>\n",
       "                        <td id=\"T_5e632c44_cec0_11ec_b082_1c36bb2c2bbcrow1_col0\" class=\"data row1 col0\" >kernel_svm</td>\n",
       "                        <td id=\"T_5e632c44_cec0_11ec_b082_1c36bb2c2bbcrow1_col1\" class=\"data row1 col1\" >0.755426</td>\n",
       "                        <td id=\"T_5e632c44_cec0_11ec_b082_1c36bb2c2bbcrow1_col2\" class=\"data row1 col2\" >0.802189</td>\n",
       "                        <td id=\"T_5e632c44_cec0_11ec_b082_1c36bb2c2bbcrow1_col3\" class=\"data row1 col3\" >0.771875</td>\n",
       "                        <td id=\"T_5e632c44_cec0_11ec_b082_1c36bb2c2bbcrow1_col4\" class=\"data row1 col4\" >0.790831</td>\n",
       "                        <td id=\"T_5e632c44_cec0_11ec_b082_1c36bb2c2bbcrow1_col5\" class=\"data row1 col5\" >default</td>\n",
       "            </tr>\n",
       "            <tr>\n",
       "                        <th id=\"T_5e632c44_cec0_11ec_b082_1c36bb2c2bbclevel0_row2\" class=\"row_heading level0 row2\" >2</th>\n",
       "                        <td id=\"T_5e632c44_cec0_11ec_b082_1c36bb2c2bbcrow2_col0\" class=\"data row2 col0\" >knn</td>\n",
       "                        <td id=\"T_5e632c44_cec0_11ec_b082_1c36bb2c2bbcrow2_col1\" class=\"data row2 col1\" >0.741204</td>\n",
       "                        <td id=\"T_5e632c44_cec0_11ec_b082_1c36bb2c2bbcrow2_col2\" class=\"data row2 col2\" >0.767005</td>\n",
       "                        <td id=\"T_5e632c44_cec0_11ec_b082_1c36bb2c2bbcrow2_col3\" class=\"data row2 col3\" >0.728125</td>\n",
       "                        <td id=\"T_5e632c44_cec0_11ec_b082_1c36bb2c2bbcrow2_col4\" class=\"data row2 col4\" >0.752137</td>\n",
       "                        <td id=\"T_5e632c44_cec0_11ec_b082_1c36bb2c2bbcrow2_col5\" class=\"data row2 col5\" >tuned</td>\n",
       "            </tr>\n",
       "            <tr>\n",
       "                        <th id=\"T_5e632c44_cec0_11ec_b082_1c36bb2c2bbclevel0_row3\" class=\"row_heading level0 row3\" >3</th>\n",
       "                        <td id=\"T_5e632c44_cec0_11ec_b082_1c36bb2c2bbcrow3_col0\" class=\"data row3 col0\" >knn</td>\n",
       "                        <td id=\"T_5e632c44_cec0_11ec_b082_1c36bb2c2bbcrow3_col1\" class=\"data row3 col1\" >0.720132</td>\n",
       "                        <td id=\"T_5e632c44_cec0_11ec_b082_1c36bb2c2bbcrow3_col2\" class=\"data row3 col2\" >0.814699</td>\n",
       "                        <td id=\"T_5e632c44_cec0_11ec_b082_1c36bb2c2bbcrow3_col3\" class=\"data row3 col3\" >0.70625</td>\n",
       "                        <td id=\"T_5e632c44_cec0_11ec_b082_1c36bb2c2bbcrow3_col4\" class=\"data row3 col4\" >0.747312</td>\n",
       "                        <td id=\"T_5e632c44_cec0_11ec_b082_1c36bb2c2bbcrow3_col5\" class=\"data row3 col5\" >default</td>\n",
       "            </tr>\n",
       "            <tr>\n",
       "                        <th id=\"T_5e632c44_cec0_11ec_b082_1c36bb2c2bbclevel0_row4\" class=\"row_heading level0 row4\" >4</th>\n",
       "                        <td id=\"T_5e632c44_cec0_11ec_b082_1c36bb2c2bbcrow4_col0\" class=\"data row4 col0\" >logistic_reg</td>\n",
       "                        <td id=\"T_5e632c44_cec0_11ec_b082_1c36bb2c2bbcrow4_col1\" class=\"data row4 col1\" >0.74355</td>\n",
       "                        <td id=\"T_5e632c44_cec0_11ec_b082_1c36bb2c2bbcrow4_col2\" class=\"data row4 col2\" >0.749805</td>\n",
       "                        <td id=\"T_5e632c44_cec0_11ec_b082_1c36bb2c2bbcrow4_col3\" class=\"data row4 col3\" >0.74375</td>\n",
       "                        <td id=\"T_5e632c44_cec0_11ec_b082_1c36bb2c2bbcrow4_col4\" class=\"data row4 col4\" >0.761628</td>\n",
       "                        <td id=\"T_5e632c44_cec0_11ec_b082_1c36bb2c2bbcrow4_col5\" class=\"data row4 col5\" >tuned</td>\n",
       "            </tr>\n",
       "            <tr>\n",
       "                        <th id=\"T_5e632c44_cec0_11ec_b082_1c36bb2c2bbclevel0_row5\" class=\"row_heading level0 row5\" >5</th>\n",
       "                        <td id=\"T_5e632c44_cec0_11ec_b082_1c36bb2c2bbcrow5_col0\" class=\"data row5 col0\" >logistic_reg</td>\n",
       "                        <td id=\"T_5e632c44_cec0_11ec_b082_1c36bb2c2bbcrow5_col1\" class=\"data row5 col1\" >0.742863</td>\n",
       "                        <td id=\"T_5e632c44_cec0_11ec_b082_1c36bb2c2bbcrow5_col2\" class=\"data row5 col2\" >0.75215</td>\n",
       "                        <td id=\"T_5e632c44_cec0_11ec_b082_1c36bb2c2bbcrow5_col3\" class=\"data row5 col3\" >0.740625</td>\n",
       "                        <td id=\"T_5e632c44_cec0_11ec_b082_1c36bb2c2bbcrow5_col4\" class=\"data row5 col4\" >0.760807</td>\n",
       "                        <td id=\"T_5e632c44_cec0_11ec_b082_1c36bb2c2bbcrow5_col5\" class=\"data row5 col5\" >default</td>\n",
       "            </tr>\n",
       "            <tr>\n",
       "                        <th id=\"T_5e632c44_cec0_11ec_b082_1c36bb2c2bbclevel0_row6\" class=\"row_heading level0 row6\" >6</th>\n",
       "                        <td id=\"T_5e632c44_cec0_11ec_b082_1c36bb2c2bbcrow6_col0\" class=\"data row6 col0\" >random_forest</td>\n",
       "                        <td id=\"T_5e632c44_cec0_11ec_b082_1c36bb2c2bbcrow6_col1\" class=\"data row6 col1\" >0.818608</td>\n",
       "                        <td id=\"T_5e632c44_cec0_11ec_b082_1c36bb2c2bbcrow6_col2\" class=\"data row6 col2\" >0.999218</td>\n",
       "                        <td id=\"T_5e632c44_cec0_11ec_b082_1c36bb2c2bbcrow6_col3\" class=\"data row6 col3\" >0.790625</td>\n",
       "                        <td id=\"T_5e632c44_cec0_11ec_b082_1c36bb2c2bbcrow6_col4\" class=\"data row6 col4\" >0.81337</td>\n",
       "                        <td id=\"T_5e632c44_cec0_11ec_b082_1c36bb2c2bbcrow6_col5\" class=\"data row6 col5\" >tuned</td>\n",
       "            </tr>\n",
       "            <tr>\n",
       "                        <th id=\"T_5e632c44_cec0_11ec_b082_1c36bb2c2bbclevel0_row7\" class=\"row_heading level0 row7\" >7</th>\n",
       "                        <td id=\"T_5e632c44_cec0_11ec_b082_1c36bb2c2bbcrow7_col0\" class=\"data row7 col0\" >random_forest</td>\n",
       "                        <td id=\"T_5e632c44_cec0_11ec_b082_1c36bb2c2bbcrow7_col1\" class=\"data row7 col1\" >0.797552</td>\n",
       "                        <td id=\"T_5e632c44_cec0_11ec_b082_1c36bb2c2bbcrow7_col2\" class=\"data row7 col2\" >0.992181</td>\n",
       "                        <td id=\"T_5e632c44_cec0_11ec_b082_1c36bb2c2bbcrow7_col3\" class=\"data row7 col3\" >0.75625</td>\n",
       "                        <td id=\"T_5e632c44_cec0_11ec_b082_1c36bb2c2bbcrow7_col4\" class=\"data row7 col4\" >0.77193</td>\n",
       "                        <td id=\"T_5e632c44_cec0_11ec_b082_1c36bb2c2bbcrow7_col5\" class=\"data row7 col5\" >default</td>\n",
       "            </tr>\n",
       "    </tbody></table>"
      ],
      "text/plain": [
       "<pandas.io.formats.style.Styler at 0x1a209f7b50>"
      ]
     },
     "execution_count": 97,
     "metadata": {},
     "output_type": "execute_result"
    }
   ],
   "source": [
    "# merging the scores of default models and the scores of hupertuned models\n",
    "merged_scores = pd.concat([df_hyper_scores, df_scores], ignore_index=True).sort_values(by=['model']).reset_index(drop=True)\n",
    "merged_scores.style.background_gradient(\"Reds\",subset=[\"accuracy_test\",\"f1_test\"])"
   ]
  },
  {
   "cell_type": "markdown",
   "metadata": {},
   "source": [
    "- The table above shows that hyperparameter tuning increased the scores of **Logistic Regression**, **K-NN**, and **Random Forest** models, however, it did not affect the scores of the **Kernelized SVM** model in any way. So, we will be using tuned hyperparameters for our models and will refer to them as *best models*.\n",
    "- One might also note that now **Random Forest** has the highest scores compared to the other three models."
   ]
  },
  {
   "cell_type": "markdown",
   "metadata": {},
   "source": [
    "### 3.3 Checking for overfitting"
   ]
  },
  {
   "cell_type": "markdown",
   "metadata": {},
   "source": [
    "- It is difficult to tell whether the scores after hyperparameter tuning are high enough. This is because if the model is over/underfitting the training dataset, its performance on the unseen dataset will become poor. \n",
    "- In order to see if there is room for further improvement, it is important to investigate whether the model is over/underfitting. For this task, performing an *analysis of learning dynamics* might be helpful. The analysis is performed by varying a key model hyperparameter and evaluating the model performance on the train and cross-validation sets for each configuration. The results are plotted on a *learning curve* which is defined by *Accuracy Score (train and cross-validation) vs Model Complexity*."
   ]
  },
  {
   "cell_type": "markdown",
   "metadata": {},
   "source": [
    "#### Logistic Regression"
   ]
  },
  {
   "cell_type": "markdown",
   "metadata": {},
   "source": [
    "There is no need to analyze the learning dynamics of a Logistic Regression because it is a linear classifier that does not have hyperparameters making the model more complex. Logistic Regression cannot over/underfit."
   ]
  },
  {
   "cell_type": "markdown",
   "metadata": {},
   "source": [
    "#### K-Nearest Neighbors (K-NN)"
   ]
  },
  {
   "cell_type": "markdown",
   "metadata": {},
   "source": [
    "The complexity of K-NN depends on the *number of neighbors*. Smaller numbers usually result in more complex models that lead to overfitting, whereas larger numbers (close to the number of instances) might conversely lead to underfitting."
   ]
  },
  {
   "cell_type": "code",
   "execution_count": 98,
   "metadata": {
    "scrolled": true
   },
   "outputs": [
    {
     "name": "stdout",
     "output_type": "stream",
     "text": [
      "k: 1, train: 1.000, cv: 0.751\n",
      "k: 2, train: 0.878, cv: 0.701\n",
      "k: 3, train: 0.861, cv: 0.723\n",
      "k: 4, train: 0.831, cv: 0.706\n",
      "k: 5, train: 0.815, cv: 0.720\n",
      "k: 6, train: 0.797, cv: 0.722\n",
      "k: 7, train: 0.795, cv: 0.719\n",
      "k: 8, train: 0.783, cv: 0.733\n",
      "k: 9, train: 0.779, cv: 0.732\n",
      "k: 10, train: 0.787, cv: 0.730\n",
      "k: 11, train: 0.784, cv: 0.723\n",
      "k: 12, train: 0.784, cv: 0.733\n",
      "k: 13, train: 0.774, cv: 0.730\n",
      "k: 14, train: 0.765, cv: 0.742\n",
      "k: 15, train: 0.773, cv: 0.730\n",
      "k: 16, train: 0.767, cv: 0.741\n",
      "k: 17, train: 0.769, cv: 0.729\n",
      "k: 18, train: 0.768, cv: 0.727\n",
      "k: 19, train: 0.761, cv: 0.724\n",
      "k: 20, train: 0.765, cv: 0.727\n",
      "k: 21, train: 0.758, cv: 0.724\n",
      "k: 22, train: 0.762, cv: 0.722\n",
      "k: 23, train: 0.758, cv: 0.723\n",
      "k: 24, train: 0.758, cv: 0.731\n",
      "k: 25, train: 0.753, cv: 0.725\n",
      "k: 26, train: 0.755, cv: 0.730\n",
      "k: 27, train: 0.753, cv: 0.719\n",
      "k: 28, train: 0.756, cv: 0.730\n",
      "k: 29, train: 0.752, cv: 0.726\n",
      "k: 30, train: 0.753, cv: 0.733\n",
      "k: 31, train: 0.751, cv: 0.728\n",
      "k: 32, train: 0.756, cv: 0.731\n",
      "k: 33, train: 0.754, cv: 0.727\n",
      "k: 34, train: 0.750, cv: 0.727\n",
      "k: 35, train: 0.750, cv: 0.720\n",
      "k: 36, train: 0.750, cv: 0.722\n",
      "k: 37, train: 0.747, cv: 0.719\n",
      "k: 38, train: 0.754, cv: 0.719\n",
      "k: 39, train: 0.745, cv: 0.719\n",
      "k: 40, train: 0.747, cv: 0.725\n"
     ]
    }
   ],
   "source": [
    "knn_train_scores = []\n",
    "knn_cv_scores = []\n",
    "\n",
    "# values for k-neighbors \n",
    "neighbors = np.arange(1, 41, 1)\n",
    "\n",
    "for k in neighbors:\n",
    "    # fit the model\n",
    "    knn_clf = KNeighborsClassifier(n_neighbors=k).fit(X_train_scaled, y_train)\n",
    "    \n",
    "    # evaluate on the CV\n",
    "    knn_clf_cv = cross_val_score(knn_clf, X_train_scaled, y_train, cv=8, scoring='accuracy')\n",
    "    knn_cv_scores.append(knn_clf_cv.mean())\n",
    "    \n",
    "    # evaluate on the train set\n",
    "    knn_clf_train = knn_clf.predict(X_train_scaled)\n",
    "    knn_clf_train_score = accuracy_score(y_train, knn_clf_train)\n",
    "    knn_train_scores.append(knn_clf_train_score)\n",
    "    \n",
    "    # summary\n",
    "    print('k: %d, train: %.3f, cv: %.3f' % (k, knn_clf_train_score, knn_clf_cv.mean()))"
   ]
  },
  {
   "cell_type": "code",
   "execution_count": 99,
   "metadata": {},
   "outputs": [
    {
     "data": {
      "image/png": "[encoded data removed]",
      "text/plain": [
       "<Figure size 432x288 with 1 Axes>"
      ]
     },
     "metadata": {
      "needs_background": "light"
     },
     "output_type": "display_data"
    }
   ],
   "source": [
    "# visualizing complexity\n",
    "plt.plot(neighbors, knn_train_scores, color=\"darkred\",label='Train score')\n",
    "plt.plot(neighbors, knn_cv_scores, color=\"orange\", label='CV score')\n",
    "plt.vlines(16, 0.69, 0.77, color='blue', linestyles='dotted', label=\"best model\")\n",
    "plt.xlabel(\"n-neighbors value\")\n",
    "plt.ylabel(\"Accuracy score\")\n",
    "plt.legend();"
   ]
  },
  {
   "cell_type": "markdown",
   "metadata": {},
   "source": [
    "- As we can see from the graph, cross-validation scores start gradually decreasing approximately from k = 20.\n",
    "- Recall that the best K-NN model was the one with k = 16. It is marked by a blue dotted vertical line on the graph. We can observe that our best model does not overfit because the cross-validation score starts to decrease only after k = 20. It also does not underfitted because the cross-validation score for k = 16 is one of the highest ones.\n",
    "- One should note that training score also decreases as k starts to increase. It is probably due to the fact that the training process in K-NN is just storing the data, therefore, K-NN will perform perfectly on the training data only when k = 1."
   ]
  },
  {
   "cell_type": "markdown",
   "metadata": {},
   "source": [
    "#### Kernelized SVM"
   ]
  },
  {
   "cell_type": "markdown",
   "metadata": {},
   "source": [
    "Overall, Kernelized SVM has one hyperparameter that directly affects the complexity of the model, namely kernel coefficient *gamma*. So we will use it to plot learning curve to see if there is any overfitting present in our model. We will fix C = 5 because hyperparameter tuning showed it to be the 'best' hyperparameter. "
   ]
  },
  {
   "cell_type": "code",
   "execution_count": 100,
   "metadata": {
    "scrolled": true
   },
   "outputs": [
    {
     "name": "stdout",
     "output_type": "stream",
     "text": [
      "gamma: 0.010, train: 0.766, cv: 0.749\n",
      "gamma: 0.113, train: 0.846, cv: 0.769\n",
      "gamma: 0.216, train: 0.903, cv: 0.768\n",
      "gamma: 0.319, train: 0.942, cv: 0.769\n",
      "gamma: 0.422, train: 0.967, cv: 0.776\n",
      "gamma: 0.526, train: 0.977, cv: 0.773\n",
      "gamma: 0.629, train: 0.987, cv: 0.769\n",
      "gamma: 0.732, train: 0.992, cv: 0.768\n",
      "gamma: 0.835, train: 0.995, cv: 0.765\n",
      "gamma: 0.938, train: 0.996, cv: 0.765\n",
      "gamma: 1.041, train: 0.995, cv: 0.762\n",
      "gamma: 1.144, train: 0.996, cv: 0.756\n",
      "gamma: 1.247, train: 0.996, cv: 0.753\n",
      "gamma: 1.350, train: 0.996, cv: 0.750\n",
      "gamma: 1.453, train: 0.996, cv: 0.747\n",
      "gamma: 1.557, train: 0.997, cv: 0.748\n",
      "gamma: 1.660, train: 0.998, cv: 0.747\n",
      "gamma: 1.763, train: 0.998, cv: 0.745\n",
      "gamma: 1.866, train: 0.998, cv: 0.742\n",
      "gamma: 1.969, train: 0.999, cv: 0.741\n",
      "gamma: 2.072, train: 0.999, cv: 0.741\n",
      "gamma: 2.175, train: 1.000, cv: 0.741\n",
      "gamma: 2.278, train: 1.000, cv: 0.737\n",
      "gamma: 2.381, train: 1.000, cv: 0.734\n",
      "gamma: 2.484, train: 1.000, cv: 0.733\n",
      "gamma: 2.588, train: 1.000, cv: 0.728\n",
      "gamma: 2.691, train: 1.000, cv: 0.728\n",
      "gamma: 2.794, train: 1.000, cv: 0.727\n",
      "gamma: 2.897, train: 1.000, cv: 0.721\n",
      "gamma: 3.000, train: 1.000, cv: 0.718\n"
     ]
    }
   ],
   "source": [
    "# evaluating at fixed C (C=5) and different values of gamma\n",
    "svm_gamma_train_scores = []\n",
    "svm_gamma_cv_scores = []\n",
    "gamma = np.linspace(0.01, 3, num=30)\n",
    "\n",
    "for g in gamma: \n",
    "    # fit the model\n",
    "    svm_gamma_clf = SVC(kernel='rbf', C=5, gamma=g).fit(X_train_scaled, y_train)\n",
    "    \n",
    "    # evaluate on the CV\n",
    "    svm_gamma_clf_cv = cross_val_score(svm_gamma_clf, X_train_scaled, y_train, cv=8, scoring='accuracy')\n",
    "    svm_gamma_cv_scores.append(svm_gamma_clf_cv.mean())\n",
    "    \n",
    "    # evaluate on the train set\n",
    "    svm_gamma_clf_train = svm_gamma_clf.predict(X_train_scaled)\n",
    "    svm_gamma_clf_train_score = accuracy_score(y_train, svm_gamma_clf_train)\n",
    "    svm_gamma_train_scores.append(svm_gamma_clf_train_score)\n",
    "    \n",
    "    # summary\n",
    "    print('gamma: %.3f, train: %.3f, cv: %.3f' % (g, svm_gamma_clf_train_score, svm_gamma_clf_cv.mean()))"
   ]
  },
  {
   "cell_type": "code",
   "execution_count": 101,
   "metadata": {},
   "outputs": [
    {
     "data": {
      "image/png": "[encoded data removed]",
      "text/plain": [
       "<Figure size 432x288 with 1 Axes>"
      ]
     },
     "metadata": {
      "needs_background": "light"
     },
     "output_type": "display_data"
    }
   ],
   "source": [
    "# visualizing complexity\n",
    "plt.figure()\n",
    "plt.plot(gamma, svm_gamma_train_scores, color='darkred', label='Train score')\n",
    "plt.plot(gamma, svm_gamma_cv_scores, color='orange', label='CV score')\n",
    "plt.vlines(0.5, 0.72, 0.975, color='blue', linestyles='dotted', label=\"best model\")\n",
    "plt.xlabel('gamma values (C = 5)')\n",
    "plt.ylabel('Accuracy score')\n",
    "plt.legend(loc='upper right', fontsize=10);"
   ]
  },
  {
   "cell_type": "markdown",
   "metadata": {},
   "source": [
    "When evaluating Kernelized SVM with different gammas and fixed C = 5, we can observe that overfitting starts approximately from gamma = 0.6. This is because the cross-validation score starts to decrease, while the training score starts to increase.\\\n",
    "From hyperparameter-tuning, the best performing Kernelized SVM was at C = 5 and gamma = 0.5. They are denoted by blue dotted vertical line. Since the 'best' gamma is lower than 0.6 most probably our model does not overfit. It aldo does not underfit because train accuracy is one of the highest ones."
   ]
  },
  {
   "cell_type": "markdown",
   "metadata": {},
   "source": [
    "#### Random Forest"
   ]
  },
  {
   "cell_type": "markdown",
   "metadata": {},
   "source": [
    "Since there are two important hyperparameters in Random Forest that affect model complexity, it is difficult to interpret them simultaneously in one learning curve. In order to still show the dependence between performance and model complexity, it was decided to make two separate graphs. In each graph, one of the parameters will be varying, and the other one will be fixed (the value for the fixed parameter will be taken from the best-performing model identified during hyperparameter tuning).\\\n",
    "\\\n",
    "The two important hyperparameters are *maximum depth* and *number of estimators* (*bootstrap* and *max_features* were not evaluated due to computational and time complexities). Let's evaluate and plot the two learning curves."
   ]
  },
  {
   "cell_type": "code",
   "execution_count": 102,
   "metadata": {
    "scrolled": true
   },
   "outputs": [
    {
     "name": "stdout",
     "output_type": "stream",
     "text": [
      "n_estim: 1, train: 0.894, cv: 0.724\n",
      "n_estim: 3, train: 0.951, cv: 0.778\n",
      "n_estim: 5, train: 0.972, cv: 0.785\n",
      "n_estim: 7, train: 0.986, cv: 0.782\n",
      "n_estim: 9, train: 0.991, cv: 0.798\n",
      "n_estim: 11, train: 0.997, cv: 0.802\n",
      "n_estim: 13, train: 0.995, cv: 0.801\n",
      "n_estim: 15, train: 0.996, cv: 0.809\n",
      "n_estim: 17, train: 0.998, cv: 0.812\n",
      "n_estim: 19, train: 0.999, cv: 0.816\n",
      "n_estim: 21, train: 0.997, cv: 0.817\n",
      "n_estim: 23, train: 0.998, cv: 0.819\n",
      "n_estim: 25, train: 0.999, cv: 0.819\n",
      "n_estim: 27, train: 1.000, cv: 0.819\n",
      "n_estim: 29, train: 0.999, cv: 0.809\n",
      "n_estim: 31, train: 0.999, cv: 0.812\n",
      "n_estim: 33, train: 0.999, cv: 0.813\n",
      "n_estim: 35, train: 1.000, cv: 0.815\n",
      "n_estim: 37, train: 1.000, cv: 0.811\n",
      "n_estim: 39, train: 1.000, cv: 0.814\n",
      "n_estim: 41, train: 1.000, cv: 0.815\n",
      "n_estim: 43, train: 1.000, cv: 0.812\n",
      "n_estim: 45, train: 1.000, cv: 0.811\n",
      "n_estim: 47, train: 1.000, cv: 0.812\n",
      "n_estim: 49, train: 1.000, cv: 0.814\n",
      "n_estim: 51, train: 1.000, cv: 0.814\n",
      "n_estim: 53, train: 1.000, cv: 0.812\n",
      "n_estim: 55, train: 1.000, cv: 0.812\n",
      "n_estim: 57, train: 1.000, cv: 0.812\n",
      "n_estim: 59, train: 1.000, cv: 0.812\n",
      "depth: 1, train: 0.700, cv: 0.701\n",
      "depth: 3, train: 0.784, cv: 0.748\n",
      "depth: 5, train: 0.829, cv: 0.779\n",
      "depth: 7, train: 0.888, cv: 0.785\n",
      "depth: 9, train: 0.959, cv: 0.804\n",
      "depth: 11, train: 0.985, cv: 0.808\n",
      "depth: 13, train: 0.994, cv: 0.806\n",
      "depth: 15, train: 0.997, cv: 0.809\n",
      "depth: 17, train: 0.998, cv: 0.816\n",
      "depth: 19, train: 0.999, cv: 0.819\n",
      "depth: 21, train: 0.999, cv: 0.818\n",
      "depth: 23, train: 0.999, cv: 0.819\n",
      "depth: 25, train: 0.999, cv: 0.819\n",
      "depth: 27, train: 0.999, cv: 0.819\n",
      "depth: 29, train: 0.999, cv: 0.819\n",
      "depth: 31, train: 0.999, cv: 0.819\n",
      "depth: 33, train: 0.999, cv: 0.819\n",
      "depth: 35, train: 0.999, cv: 0.819\n",
      "depth: 37, train: 0.999, cv: 0.819\n",
      "depth: 39, train: 0.999, cv: 0.819\n",
      "depth: 41, train: 0.999, cv: 0.819\n",
      "depth: 43, train: 0.999, cv: 0.819\n",
      "depth: 45, train: 0.999, cv: 0.819\n",
      "depth: 47, train: 0.999, cv: 0.819\n",
      "depth: 49, train: 0.999, cv: 0.819\n",
      "depth: 51, train: 0.999, cv: 0.819\n",
      "depth: 53, train: 0.999, cv: 0.819\n",
      "depth: 55, train: 0.999, cv: 0.819\n",
      "depth: 57, train: 0.999, cv: 0.819\n",
      "depth: 59, train: 0.999, cv: 0.819\n"
     ]
    }
   ],
   "source": [
    "# evaluating at fixed max_depth (max_depth=30) and different values of n_estimators\n",
    "rf_n_train_scores = []\n",
    "rf_n_cv_scores = []\n",
    "n_estimators = np.arange(1, 61, 2, dtype=int)\n",
    "\n",
    "for n in n_estimators:\n",
    "    # fit the model\n",
    "    rf_n_clf = RandomForestClassifier(max_depth=30, n_estimators=n, random_state=30).fit(X_train_scaled, y_train)\n",
    "    \n",
    "    # evaluate on the CV\n",
    "    rf_n_clf_cv = cross_val_score(rf_n_clf, X_train_scaled, y_train, cv=8, scoring='accuracy')\n",
    "    rf_n_cv_scores.append(rf_n_clf_cv.mean())\n",
    "    \n",
    "    # evaluate on the train set\n",
    "    rf_n_clf_train = rf_n_clf.predict(X_train_scaled)\n",
    "    rf_n_clf_train_score = accuracy_score(y_train, rf_n_clf_train)\n",
    "    rf_n_train_scores.append(rf_n_clf_train_score)\n",
    "    \n",
    "    # summary\n",
    "    print('n_estim: %d, train: %.3f, cv: %.3f' % (n, rf_n_clf_train_score, rf_n_clf_cv.mean()))\n",
    "\n",
    "# evaluating at fixed n_estimators (n_estimators=25) and different values of max_depths\n",
    "rf_depth_train_scores = []\n",
    "rf_depth_cv_scores = []\n",
    "depths = np.arange(1, 61, 2, dtype=int)\n",
    "\n",
    "for d in depths: \n",
    "    # fit the model\n",
    "    rf_depth_clf = RandomForestClassifier(max_depth=d, n_estimators=25, random_state=30).fit(X_train_scaled, y_train)\n",
    "    \n",
    "    # evaluate on the CV\n",
    "    rf_depth_clf_cv = cross_val_score(rf_depth_clf, X_train_scaled, y_train, cv=8, scoring='accuracy')\n",
    "    rf_depth_cv_scores.append(rf_depth_clf_cv.mean())\n",
    "    \n",
    "    # evaluate on the train set\n",
    "    rf_depth_clf_train = rf_depth_clf.predict(X_train_scaled)\n",
    "    rf_depth_clf_train_score = accuracy_score(y_train, rf_depth_clf_train)\n",
    "    rf_depth_train_scores.append(rf_depth_clf_train_score)\n",
    "    \n",
    "    # summary\n",
    "    print('depth: %d, train: %.3f, cv: %.3f' % (d, rf_depth_clf_train_score, rf_depth_clf_cv.mean()))"
   ]
  },
  {
   "cell_type": "code",
   "execution_count": 103,
   "metadata": {},
   "outputs": [
    {
     "data": {
      "image/png": "[encoded data removed]",
      "text/plain": [
       "<Figure size 720x288 with 2 Axes>"
      ]
     },
     "metadata": {
      "needs_background": "light"
     },
     "output_type": "display_data"
    }
   ],
   "source": [
    "# visualizing complexity\n",
    "fig, ax = plt.subplots(1, 2, constrained_layout=True, figsize=(10,4))\n",
    "ax[0].plot(n_estimators, rf_n_train_scores, color='darkred', label='Train score')\n",
    "ax[0].plot(n_estimators, rf_n_cv_scores, color='orange', label='CV score')\n",
    "ax[0].vlines(25, 0.73, 0.9995, color='blue', linestyles='dotted', label=\"best model\")\n",
    "ax[0].set_xlabel('n-estimators values (depth = 30)')\n",
    "ax[0].set_ylabel('Accuracy score')\n",
    "ax[0].legend(loc='lower right', fontsize=10)\n",
    "\n",
    "ax[1].plot(depths, rf_depth_train_scores, color='darkred', label='Train score')\n",
    "ax[1].plot(depths, rf_depth_cv_scores, color='orange', label='CV score')\n",
    "ax[1].vlines(30, 0.7, 0.998, color='blue', linestyles='dotted', label=\"best model\")\n",
    "ax[1].set_xlabel('max_depth values (n-estimators = 25)')\n",
    "ax[1].set_ylabel('Accuracy score')\n",
    "ax[1].legend(loc='lower right', fontsize=10);"
   ]
  },
  {
   "cell_type": "markdown",
   "metadata": {},
   "source": [
    "- Left-graph: When evaluating Random Forest with different n-estimators and fixed depth = 30, we can observe that overfitting starts approximately from n-estimators = 29. This is because the cross-validation score starts to decrease, while the training score starts to increase.\n",
    "- Right-graph: When evaluating Random Forest with different depths and fixed n-estimators = 25, we cannot see clear overfitting patterns because, after depth = 19, both training and cross-validation scores do not change.\n",
    "- From hyperparameter-tuning, the best performing Random Forest was at depth = 30 and n-estimators = 25. They are denoted by blue dotted vertical lines. By looking at the learning curves, we can conclude that our best model probably does not over/underfit. This is because the left learning curve at n-estimators = 25 (depth = 30) is not in the over/underfitting zone. The same goes for the right learning curve, at depth = 30 (n-estimators = 25) it also does not seem to over/underfit."
   ]
  },
  {
   "cell_type": "markdown",
   "metadata": {},
   "source": [
    "## 4. Analysis"
   ]
  },
  {
   "cell_type": "markdown",
   "metadata": {},
   "source": [
    "### 4.1 Error analysis"
   ]
  },
  {
   "cell_type": "markdown",
   "metadata": {},
   "source": [
    "### ROC Curves"
   ]
  },
  {
   "cell_type": "markdown",
   "metadata": {},
   "source": [
    "In order to see whether our models perform better than any other dummy classifier, let's plot ROC Curves with corresponding AUC values."
   ]
  },
  {
   "cell_type": "code",
   "execution_count": 104,
   "metadata": {},
   "outputs": [
    {
     "data": {
      "image/png": "[encoded data removed]",
      "text/plain": [
       "<Figure size 648x648 with 4 Axes>"
      ]
     },
     "metadata": {
      "needs_background": "light"
     },
     "output_type": "display_data"
    }
   ],
   "source": [
    "# ROC curves\n",
    "fig, ((ax1, ax2), (ax3, ax4)) = plt.subplots(2, 2, constrained_layout=True, figsize=(9,9))\n",
    "fig.suptitle('Reciever Operating Characteristic (ROC) curves', fontweight='bold', fontsize=15)\n",
    "\n",
    "preds = [lr_best_pred_test, knn_best_pred_test, svm_best_pred_test, rf_best_pred_test]\n",
    "models = [\"Logistic Regression\", \"K-NN\", \"Kernel-SVM\", \"Random Forest\"]\n",
    "axs = [ax1, ax2, ax3, ax4]\n",
    "\n",
    "for i in range(4):\n",
    "    fpr, tpr, _ = roc_curve(y_test, preds[i])\n",
    "    roc_auc = auc(fpr, tpr)\n",
    "    \n",
    "    axs[i].plot(fpr, tpr, label='ROC curve (AUC = {:0.2f})'.format(roc_auc), color='darkred')\n",
    "    axs[i].plot([0, 1], [0, 1], color='orange', lw=1, linestyle='--')\n",
    "    axs[i].legend(loc='lower right', fontsize=12)\n",
    "    \n",
    "    axs[i].set_xlabel('False Positive Rate', fontsize=13)\n",
    "    axs[i].set_ylabel('True Positive Rate', fontsize=13)\n",
    "    axs[i].set_title(\"{}\".format(models[i]), fontsize=13);"
   ]
  },
  {
   "cell_type": "markdown",
   "metadata": {},
   "source": [
    "The ROC curves of all four models are relatively close to the top left of the graph suggesting that their predictive powers are pretty good. *AUC values* are not 0.5, which suggests that our models perform better than a dummy classifier."
   ]
  },
  {
   "cell_type": "markdown",
   "metadata": {},
   "source": [
    "### Confusion matrix"
   ]
  },
  {
   "cell_type": "markdown",
   "metadata": {},
   "source": [
    "In order to analyze the errors, a good practice is to investigate *confusion matrix*. In confusion matrix, positive is 1 (high-quality wine), and negative is 0 (low-quality wine)."
   ]
  },
  {
   "cell_type": "code",
   "execution_count": 105,
   "metadata": {},
   "outputs": [],
   "source": [
    "df_hyper_scores = df_hyper_scores.drop(\"params\", axis=1).set_index(\"model\")\n",
    "model_names = [\"logistic_reg\",\"knn\",\"kernel_svm\",\"random_forest\"]"
   ]
  },
  {
   "cell_type": "code",
   "execution_count": 106,
   "metadata": {},
   "outputs": [
    {
     "data": {
      "text/html": [
       "<div>\n",
       "<style scoped>\n",
       "    .dataframe tbody tr th:only-of-type {\n",
       "        vertical-align: middle;\n",
       "    }\n",
       "\n",
       "    .dataframe tbody tr th {\n",
       "        vertical-align: top;\n",
       "    }\n",
       "\n",
       "    .dataframe thead th {\n",
       "        text-align: right;\n",
       "    }\n",
       "</style>\n",
       "<table border=\"1\" class=\"dataframe\">\n",
       "  <thead>\n",
       "    <tr style=\"text-align: right;\">\n",
       "      <th></th>\n",
       "      <th>accuracy_cv</th>\n",
       "      <th>accuracy_train</th>\n",
       "      <th>accuracy_test</th>\n",
       "      <th>f1_test</th>\n",
       "      <th>TN</th>\n",
       "      <th>FP</th>\n",
       "      <th>TP</th>\n",
       "      <th>FN</th>\n",
       "    </tr>\n",
       "    <tr>\n",
       "      <th>model</th>\n",
       "      <th></th>\n",
       "      <th></th>\n",
       "      <th></th>\n",
       "      <th></th>\n",
       "      <th></th>\n",
       "      <th></th>\n",
       "      <th></th>\n",
       "      <th></th>\n",
       "    </tr>\n",
       "  </thead>\n",
       "  <tbody>\n",
       "    <tr>\n",
       "      <td>logistic_reg</td>\n",
       "      <td>0.743550</td>\n",
       "      <td>0.749805</td>\n",
       "      <td>0.743750</td>\n",
       "      <td>0.761628</td>\n",
       "      <td>107.0</td>\n",
       "      <td>34.0</td>\n",
       "      <td>131.0</td>\n",
       "      <td>48.0</td>\n",
       "    </tr>\n",
       "    <tr>\n",
       "      <td>knn</td>\n",
       "      <td>0.741204</td>\n",
       "      <td>0.767005</td>\n",
       "      <td>0.728125</td>\n",
       "      <td>0.752137</td>\n",
       "      <td>101.0</td>\n",
       "      <td>40.0</td>\n",
       "      <td>132.0</td>\n",
       "      <td>47.0</td>\n",
       "    </tr>\n",
       "    <tr>\n",
       "      <td>kernel_svm</td>\n",
       "      <td>0.776388</td>\n",
       "      <td>0.974980</td>\n",
       "      <td>0.771875</td>\n",
       "      <td>0.790831</td>\n",
       "      <td>109.0</td>\n",
       "      <td>32.0</td>\n",
       "      <td>138.0</td>\n",
       "      <td>41.0</td>\n",
       "    </tr>\n",
       "    <tr>\n",
       "      <td>random_forest</td>\n",
       "      <td>0.818608</td>\n",
       "      <td>0.999218</td>\n",
       "      <td>0.790625</td>\n",
       "      <td>0.813370</td>\n",
       "      <td>107.0</td>\n",
       "      <td>34.0</td>\n",
       "      <td>146.0</td>\n",
       "      <td>33.0</td>\n",
       "    </tr>\n",
       "  </tbody>\n",
       "</table>\n",
       "</div>"
      ],
      "text/plain": [
       "               accuracy_cv  accuracy_train  accuracy_test   f1_test     TN  \\\n",
       "model                                                                        \n",
       "logistic_reg      0.743550        0.749805       0.743750  0.761628  107.0   \n",
       "knn               0.741204        0.767005       0.728125  0.752137  101.0   \n",
       "kernel_svm        0.776388        0.974980       0.771875  0.790831  109.0   \n",
       "random_forest     0.818608        0.999218       0.790625  0.813370  107.0   \n",
       "\n",
       "                 FP     TP    FN  \n",
       "model                             \n",
       "logistic_reg   34.0  131.0  48.0  \n",
       "knn            40.0  132.0  47.0  \n",
       "kernel_svm     32.0  138.0  41.0  \n",
       "random_forest  34.0  146.0  33.0  "
      ]
     },
     "execution_count": 106,
     "metadata": {},
     "output_type": "execute_result"
    }
   ],
   "source": [
    "# adding confusion matrix results to df_hyper_scores\n",
    "for i in range(4):\n",
    "    df_hyper_scores.loc[model_names[i], \"TN\"] = confusion_matrix(y_test, preds[i])[0,0]\n",
    "    df_hyper_scores.loc[model_names[i], \"FP\"] = confusion_matrix(y_test, preds[i])[0,1]\n",
    "    df_hyper_scores.loc[model_names[i], \"TP\"] = confusion_matrix(y_test, preds[i])[1,1]\n",
    "    df_hyper_scores.loc[model_names[i], \"FN\"] = confusion_matrix(y_test, preds[i])[1,0]\n",
    "\n",
    "df_hyper_scores"
   ]
  },
  {
   "cell_type": "code",
   "execution_count": 107,
   "metadata": {},
   "outputs": [
    {
     "name": "stdout",
     "output_type": "stream",
     "text": [
      "The number of high-quality wines: 179\n",
      "The number of low-quality wines: 141\n"
     ]
    }
   ],
   "source": [
    "# imbalance in y_test\n",
    "print(\"The number of high-quality wines:\", Counter(y_test)[1])\n",
    "print(\"The number of low-quality wines:\", Counter(y_test)[0])"
   ]
  },
  {
   "cell_type": "markdown",
   "metadata": {},
   "source": [
    "Making conclusions just looking at FP and FN values intuitively seems to be not correct because there is some class imbalance in y_test. It would be better to look at the False Positive Rate (FPR) and False Negative Rate (FNR)."
   ]
  },
  {
   "cell_type": "code",
   "execution_count": 108,
   "metadata": {},
   "outputs": [
    {
     "data": {
      "text/html": [
       "<style  type=\"text/css\" >\n",
       "    #T_8ee50680_cec0_11ec_b082_1c36bb2c2bbcrow0_col8 {\n",
       "            background-color:  #fff5f0;\n",
       "            color:  #000000;\n",
       "        }    #T_8ee50680_cec0_11ec_b082_1c36bb2c2bbcrow0_col9 {\n",
       "            background-color:  #67000d;\n",
       "            color:  #f1f1f1;\n",
       "        }    #T_8ee50680_cec0_11ec_b082_1c36bb2c2bbcrow1_col8 {\n",
       "            background-color:  #67000d;\n",
       "            color:  #f1f1f1;\n",
       "        }    #T_8ee50680_cec0_11ec_b082_1c36bb2c2bbcrow1_col9 {\n",
       "            background-color:  #fff5f0;\n",
       "            color:  #000000;\n",
       "        }    #T_8ee50680_cec0_11ec_b082_1c36bb2c2bbcrow2_col8 {\n",
       "            background-color:  #fff5f0;\n",
       "            color:  #000000;\n",
       "        }    #T_8ee50680_cec0_11ec_b082_1c36bb2c2bbcrow2_col9 {\n",
       "            background-color:  #67000d;\n",
       "            color:  #f1f1f1;\n",
       "        }    #T_8ee50680_cec0_11ec_b082_1c36bb2c2bbcrow3_col8 {\n",
       "            background-color:  #67000d;\n",
       "            color:  #f1f1f1;\n",
       "        }    #T_8ee50680_cec0_11ec_b082_1c36bb2c2bbcrow3_col9 {\n",
       "            background-color:  #fff5f0;\n",
       "            color:  #000000;\n",
       "        }</style><table id=\"T_8ee50680_cec0_11ec_b082_1c36bb2c2bbc\" ><thead>    <tr>        <th class=\"blank level0\" ></th>        <th class=\"col_heading level0 col0\" >accuracy_cv</th>        <th class=\"col_heading level0 col1\" >accuracy_train</th>        <th class=\"col_heading level0 col2\" >accuracy_test</th>        <th class=\"col_heading level0 col3\" >f1_test</th>        <th class=\"col_heading level0 col4\" >TN</th>        <th class=\"col_heading level0 col5\" >FP</th>        <th class=\"col_heading level0 col6\" >TP</th>        <th class=\"col_heading level0 col7\" >FN</th>        <th class=\"col_heading level0 col8\" >FPR</th>        <th class=\"col_heading level0 col9\" >FNR</th>    </tr>    <tr>        <th class=\"index_name level0\" >model</th>        <th class=\"blank\" ></th>        <th class=\"blank\" ></th>        <th class=\"blank\" ></th>        <th class=\"blank\" ></th>        <th class=\"blank\" ></th>        <th class=\"blank\" ></th>        <th class=\"blank\" ></th>        <th class=\"blank\" ></th>        <th class=\"blank\" ></th>        <th class=\"blank\" ></th>    </tr></thead><tbody>\n",
       "                <tr>\n",
       "                        <th id=\"T_8ee50680_cec0_11ec_b082_1c36bb2c2bbclevel0_row0\" class=\"row_heading level0 row0\" >logistic_reg</th>\n",
       "                        <td id=\"T_8ee50680_cec0_11ec_b082_1c36bb2c2bbcrow0_col0\" class=\"data row0 col0\" >0.74355</td>\n",
       "                        <td id=\"T_8ee50680_cec0_11ec_b082_1c36bb2c2bbcrow0_col1\" class=\"data row0 col1\" >0.749805</td>\n",
       "                        <td id=\"T_8ee50680_cec0_11ec_b082_1c36bb2c2bbcrow0_col2\" class=\"data row0 col2\" >0.74375</td>\n",
       "                        <td id=\"T_8ee50680_cec0_11ec_b082_1c36bb2c2bbcrow0_col3\" class=\"data row0 col3\" >0.761628</td>\n",
       "                        <td id=\"T_8ee50680_cec0_11ec_b082_1c36bb2c2bbcrow0_col4\" class=\"data row0 col4\" >107</td>\n",
       "                        <td id=\"T_8ee50680_cec0_11ec_b082_1c36bb2c2bbcrow0_col5\" class=\"data row0 col5\" >34</td>\n",
       "                        <td id=\"T_8ee50680_cec0_11ec_b082_1c36bb2c2bbcrow0_col6\" class=\"data row0 col6\" >131</td>\n",
       "                        <td id=\"T_8ee50680_cec0_11ec_b082_1c36bb2c2bbcrow0_col7\" class=\"data row0 col7\" >48</td>\n",
       "                        <td id=\"T_8ee50680_cec0_11ec_b082_1c36bb2c2bbcrow0_col8\" class=\"data row0 col8\" >0.241135</td>\n",
       "                        <td id=\"T_8ee50680_cec0_11ec_b082_1c36bb2c2bbcrow0_col9\" class=\"data row0 col9\" >0.268156</td>\n",
       "            </tr>\n",
       "            <tr>\n",
       "                        <th id=\"T_8ee50680_cec0_11ec_b082_1c36bb2c2bbclevel0_row1\" class=\"row_heading level0 row1\" >knn</th>\n",
       "                        <td id=\"T_8ee50680_cec0_11ec_b082_1c36bb2c2bbcrow1_col0\" class=\"data row1 col0\" >0.741204</td>\n",
       "                        <td id=\"T_8ee50680_cec0_11ec_b082_1c36bb2c2bbcrow1_col1\" class=\"data row1 col1\" >0.767005</td>\n",
       "                        <td id=\"T_8ee50680_cec0_11ec_b082_1c36bb2c2bbcrow1_col2\" class=\"data row1 col2\" >0.728125</td>\n",
       "                        <td id=\"T_8ee50680_cec0_11ec_b082_1c36bb2c2bbcrow1_col3\" class=\"data row1 col3\" >0.752137</td>\n",
       "                        <td id=\"T_8ee50680_cec0_11ec_b082_1c36bb2c2bbcrow1_col4\" class=\"data row1 col4\" >101</td>\n",
       "                        <td id=\"T_8ee50680_cec0_11ec_b082_1c36bb2c2bbcrow1_col5\" class=\"data row1 col5\" >40</td>\n",
       "                        <td id=\"T_8ee50680_cec0_11ec_b082_1c36bb2c2bbcrow1_col6\" class=\"data row1 col6\" >132</td>\n",
       "                        <td id=\"T_8ee50680_cec0_11ec_b082_1c36bb2c2bbcrow1_col7\" class=\"data row1 col7\" >47</td>\n",
       "                        <td id=\"T_8ee50680_cec0_11ec_b082_1c36bb2c2bbcrow1_col8\" class=\"data row1 col8\" >0.283688</td>\n",
       "                        <td id=\"T_8ee50680_cec0_11ec_b082_1c36bb2c2bbcrow1_col9\" class=\"data row1 col9\" >0.26257</td>\n",
       "            </tr>\n",
       "            <tr>\n",
       "                        <th id=\"T_8ee50680_cec0_11ec_b082_1c36bb2c2bbclevel0_row2\" class=\"row_heading level0 row2\" >kernel_svm</th>\n",
       "                        <td id=\"T_8ee50680_cec0_11ec_b082_1c36bb2c2bbcrow2_col0\" class=\"data row2 col0\" >0.776388</td>\n",
       "                        <td id=\"T_8ee50680_cec0_11ec_b082_1c36bb2c2bbcrow2_col1\" class=\"data row2 col1\" >0.97498</td>\n",
       "                        <td id=\"T_8ee50680_cec0_11ec_b082_1c36bb2c2bbcrow2_col2\" class=\"data row2 col2\" >0.771875</td>\n",
       "                        <td id=\"T_8ee50680_cec0_11ec_b082_1c36bb2c2bbcrow2_col3\" class=\"data row2 col3\" >0.790831</td>\n",
       "                        <td id=\"T_8ee50680_cec0_11ec_b082_1c36bb2c2bbcrow2_col4\" class=\"data row2 col4\" >109</td>\n",
       "                        <td id=\"T_8ee50680_cec0_11ec_b082_1c36bb2c2bbcrow2_col5\" class=\"data row2 col5\" >32</td>\n",
       "                        <td id=\"T_8ee50680_cec0_11ec_b082_1c36bb2c2bbcrow2_col6\" class=\"data row2 col6\" >138</td>\n",
       "                        <td id=\"T_8ee50680_cec0_11ec_b082_1c36bb2c2bbcrow2_col7\" class=\"data row2 col7\" >41</td>\n",
       "                        <td id=\"T_8ee50680_cec0_11ec_b082_1c36bb2c2bbcrow2_col8\" class=\"data row2 col8\" >0.22695</td>\n",
       "                        <td id=\"T_8ee50680_cec0_11ec_b082_1c36bb2c2bbcrow2_col9\" class=\"data row2 col9\" >0.22905</td>\n",
       "            </tr>\n",
       "            <tr>\n",
       "                        <th id=\"T_8ee50680_cec0_11ec_b082_1c36bb2c2bbclevel0_row3\" class=\"row_heading level0 row3\" >random_forest</th>\n",
       "                        <td id=\"T_8ee50680_cec0_11ec_b082_1c36bb2c2bbcrow3_col0\" class=\"data row3 col0\" >0.818608</td>\n",
       "                        <td id=\"T_8ee50680_cec0_11ec_b082_1c36bb2c2bbcrow3_col1\" class=\"data row3 col1\" >0.999218</td>\n",
       "                        <td id=\"T_8ee50680_cec0_11ec_b082_1c36bb2c2bbcrow3_col2\" class=\"data row3 col2\" >0.790625</td>\n",
       "                        <td id=\"T_8ee50680_cec0_11ec_b082_1c36bb2c2bbcrow3_col3\" class=\"data row3 col3\" >0.81337</td>\n",
       "                        <td id=\"T_8ee50680_cec0_11ec_b082_1c36bb2c2bbcrow3_col4\" class=\"data row3 col4\" >107</td>\n",
       "                        <td id=\"T_8ee50680_cec0_11ec_b082_1c36bb2c2bbcrow3_col5\" class=\"data row3 col5\" >34</td>\n",
       "                        <td id=\"T_8ee50680_cec0_11ec_b082_1c36bb2c2bbcrow3_col6\" class=\"data row3 col6\" >146</td>\n",
       "                        <td id=\"T_8ee50680_cec0_11ec_b082_1c36bb2c2bbcrow3_col7\" class=\"data row3 col7\" >33</td>\n",
       "                        <td id=\"T_8ee50680_cec0_11ec_b082_1c36bb2c2bbcrow3_col8\" class=\"data row3 col8\" >0.241135</td>\n",
       "                        <td id=\"T_8ee50680_cec0_11ec_b082_1c36bb2c2bbcrow3_col9\" class=\"data row3 col9\" >0.184358</td>\n",
       "            </tr>\n",
       "    </tbody></table>"
      ],
      "text/plain": [
       "<pandas.io.formats.style.Styler at 0x1a1ff838d0>"
      ]
     },
     "execution_count": 108,
     "metadata": {},
     "output_type": "execute_result"
    }
   ],
   "source": [
    "df_hyper_scores[\"FPR\"] = df_hyper_scores[\"FP\"]/(df_hyper_scores[\"FP\"]+df_hyper_scores[\"TN\"])\n",
    "df_hyper_scores[\"FNR\"] = df_hyper_scores[\"FN\"]/(df_hyper_scores[\"TP\"]+df_hyper_scores[\"FN\"])\n",
    "df_hyper_scores.style.background_gradient(\"Reds\", subset=[\"FPR\",\"FNR\"], axis=1)"
   ]
  },
  {
   "cell_type": "markdown",
   "metadata": {},
   "source": [
    "From the above table, we can observe that overall **Logistic Regression** and **Kernelized-SVM** find predicting high-quality wines more difficult than predicting low-quality wine. This is because FNR is higher than FPR. Whereas **K-NN** and **Random Forest** conversely find predicting low-quality wines more difficult than predicting high-quality wines because FPR is higher than FNR in these models. This may be due to the fact that both Logistic Regression and Kernelized SVM used regularization, whereas K-NN and Random Forest did not.\\\n",
    "\\\n",
    "From the above summary table, we can observe that all four models perform *decently* well on the test set. Their accuracy scores range approximately from 0.72 to 0.79. While investigating the presence of overfitting in these models, it can be noticed that further hyperparameter tuning probably will not change the accuracy scores. This is most likely due to problems with the dataset (e.g. too many outlieres, unnecessary input variables)."
   ]
  },
  {
   "cell_type": "markdown",
   "metadata": {},
   "source": [
    "### Feature Importance"
   ]
  },
  {
   "cell_type": "markdown",
   "metadata": {},
   "source": [
    "Due to the specificity of K-NN and Kernelized SVM, conducting an investigation on feature importance is possible only with Logistic Regression and Random Forest."
   ]
  },
  {
   "cell_type": "code",
   "execution_count": 109,
   "metadata": {},
   "outputs": [
    {
     "data": {
      "image/png": "[encoded data removed]",
      "text/plain": [
       "<Figure size 936x432 with 2 Axes>"
      ]
     },
     "metadata": {
      "needs_background": "light"
     },
     "output_type": "display_data"
    }
   ],
   "source": [
    "# feature importance plots\n",
    "fig, axs = plt.subplots(1, 2, constrained_layout=True, figsize=(13,6))\n",
    "fig.suptitle('Feature Importance Plots', fontweight='bold', fontsize=15)\n",
    "# models = [, \"K-NN\", \"Kernel-SVM\", \"Random-Forest\"]\n",
    "\n",
    "features = df.columns[:-1]\n",
    "\n",
    "# Logistic Regression\n",
    "lr_importance = lr_best.coef_[0]\n",
    "sorted_lr_idx = lr_importance.argsort()\n",
    "axs[0].barh(features[sorted_lr_idx], lr_importance[sorted_lr_idx], color=\"darkred\")\n",
    "axs[0].set_xlabel('Importance Score', fontsize=13)\n",
    "axs[0].set_title(\"Logistic Regression\", fontsize=13)\n",
    "\n",
    "\n",
    "# Random Forest\n",
    "rf_importance = rf_best.feature_importances_\n",
    "sorted_rf_idx = rf_importance.argsort()\n",
    "axs[1].barh(features[sorted_rf_idx], rf_importance[sorted_rf_idx], color=\"darkred\")\n",
    "axs[1].set_xlabel('Importance Score', fontsize=13)\n",
    "axs[1].set_title(\"Random Forest\", fontsize=13);"
   ]
  },
  {
   "cell_type": "markdown",
   "metadata": {},
   "source": [
    "Looking at the plot for Logistic Regression one can notice both positive and negative Importance Scores. The positive scores indicate a feature that predicts high-quality wines, whereas the negative scores indicate a feature that predicts low-quality wines. Overall, *pH* and *Residual sugar* contribute the least to Logistic Regression. For Random Forest, three of the most important features are *Alcohol*, *Sulphates*, and *Total sulfur dioxide*."
   ]
  },
  {
   "cell_type": "markdown",
   "metadata": {},
   "source": [
    "### 4.2 Further experiments"
   ]
  },
  {
   "cell_type": "markdown",
   "metadata": {},
   "source": [
    "There are actually other different methods that could boost the performance of our models. The following methods are suggested for further experiments:\n",
    "1. Trying more complex classifiers (e.g. XGBoost, LightGBM);\n",
    "2. Increasing the dataset (e.g. adding white-wine dataset);\n",
    "3. Handling outliers (from Project-1, it was observed that input variables suffer from severe outliers);\n",
    "4. Removing unnecessary input variables (e.g. the ones that have the smallest correlation with *quality*)."
   ]
  },
  {
   "cell_type": "markdown",
   "metadata": {},
   "source": [
    "## 5. Discussion"
   ]
  },
  {
   "cell_type": "markdown",
   "metadata": {},
   "source": [
    "### Main findings"
   ]
  },
  {
   "cell_type": "markdown",
   "metadata": {},
   "source": [
    "Our main goal in this project was to construct a decent classifier that would predict red wine quality based on its chemical properties. First, we tried classifiers such as Logistic Regression, K-NN, Kernelized SVM, and Random Forest with default hyperparameters set by Sklearn developer. They were able to achieve decent Accuracy scores, however,  Hyperparameter tuning via GridSearch managed to improve the scores a little bit more. The models with the improved hyperparameters were further checked for over/underfitting, and neither of them seemed to over/underfit. Following this, the error analysis showed that some models struggle to predict low-quality wines, and some struggle to predict high-quality wines."
   ]
  },
  {
   "cell_type": "markdown",
   "metadata": {},
   "source": [
    "### Limitations"
   ]
  },
  {
   "cell_type": "markdown",
   "metadata": {},
   "source": [
    "There are several limitations with this project:\n",
    "1. The full potential of hyperparameter tuning was not utilized. Since the CPU has a restricted amount of power, adding more hyperparameters to evaluate also adds to time complexity because there will be more hyperparameter combinations. Therefore, for example, in Random Forest other important hyperparameters such as *bootstrap* or *max_features* were not checked. \n",
    "2. Dividing the dataset into \"low-quality\" and \"high-quality\" wines might have led to inaccurate results. Such rapid division into two large subgroups neglects some key details in the quality of the wine. Maybe it would have been better to divide the dataset into three subgroups, namely \"low\", \"medium\", and \"high-quality\" red wines.\n",
    "3. There are several problems with the dataset that could have negatively affected the model performance. For example, the large number of outliers present in the dataset or unnecessary input variables."
   ]
  },
  {
   "cell_type": "markdown",
   "metadata": {},
   "source": [
    "## 6. Conclusion "
   ]
  },
  {
   "cell_type": "markdown",
   "metadata": {},
   "source": [
    "Overall, out of four models, Random Forest gave the best Accuracy score (= 0.791). The second best model was Kernelized SVM (= 0.772), the third was Logistic Regression (= 0.743), and the last one in a list was K-NN (= 0.728). However, these results are true only for a specific train/test split (in this project the split was 0.2). If the split will change say to 0.1, the results might be different."
   ]
  }
 ],
 "metadata": {
  "kernelspec": {
   "display_name": "Python 3",
   "language": "python",
   "name": "python3"
  },
  "language_info": {
   "codemirror_mode": {
    "name": "ipython",
    "version": 3
   },
   "file_extension": ".py",
   "mimetype": "text/x-python",
   "name": "python",
   "nbconvert_exporter": "python",
   "pygments_lexer": "ipython3",
   "version": "3.7.4"
  }
 },
 "nbformat": 4,
 "nbformat_minor": 2
}
